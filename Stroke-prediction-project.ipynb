{
 "cells": [
  {
   "cell_type": "code",
   "execution_count": 1,
   "id": "44b36af2-d652-46ff-bd00-fb3e0fa81310",
   "metadata": {},
   "outputs": [],
   "source": [
    "%matplotlib inline\n",
    "import pandas as pd\n",
    "import numpy as np\n",
    "import matplotlib.pyplot as plt\n",
    "import os\n",
    "\n",
    "np.set_printoptions(suppress=True, precision=5)\n",
    "pd.options.display.float_format = '{:.5f}'.format"
   ]
  },
  {
   "cell_type": "code",
   "execution_count": 2,
   "id": "9d011823-b3de-444d-8c06-6e7e4604f829",
   "metadata": {},
   "outputs": [],
   "source": [
    "# os.chdir('Desktop/Coursera/Machine learning certificate/Classification/Project')\n",
    "\n",
    "\n",
    "data = pd.read_csv('healthcare-dataset-stroke-data.csv', sep=',')"
   ]
  },
  {
   "cell_type": "code",
   "execution_count": 3,
   "id": "bc1231df-7e03-4076-ac33-ce78e338fddf",
   "metadata": {},
   "outputs": [
    {
     "data": {
      "text/html": [
       "<div>\n",
       "<style scoped>\n",
       "    .dataframe tbody tr th:only-of-type {\n",
       "        vertical-align: middle;\n",
       "    }\n",
       "\n",
       "    .dataframe tbody tr th {\n",
       "        vertical-align: top;\n",
       "    }\n",
       "\n",
       "    .dataframe thead th {\n",
       "        text-align: right;\n",
       "    }\n",
       "</style>\n",
       "<table border=\"1\" class=\"dataframe\">\n",
       "  <thead>\n",
       "    <tr style=\"text-align: right;\">\n",
       "      <th></th>\n",
       "      <th>id</th>\n",
       "      <th>gender</th>\n",
       "      <th>age</th>\n",
       "      <th>hypertension</th>\n",
       "      <th>heart_disease</th>\n",
       "      <th>ever_married</th>\n",
       "      <th>work_type</th>\n",
       "      <th>Residence_type</th>\n",
       "      <th>avg_glucose_level</th>\n",
       "      <th>bmi</th>\n",
       "      <th>smoking_status</th>\n",
       "      <th>stroke</th>\n",
       "    </tr>\n",
       "  </thead>\n",
       "  <tbody>\n",
       "    <tr>\n",
       "      <th>0</th>\n",
       "      <td>9046</td>\n",
       "      <td>Male</td>\n",
       "      <td>67.00000</td>\n",
       "      <td>0</td>\n",
       "      <td>1</td>\n",
       "      <td>Yes</td>\n",
       "      <td>Private</td>\n",
       "      <td>Urban</td>\n",
       "      <td>228.69000</td>\n",
       "      <td>36.60000</td>\n",
       "      <td>formerly smoked</td>\n",
       "      <td>1</td>\n",
       "    </tr>\n",
       "    <tr>\n",
       "      <th>1</th>\n",
       "      <td>51676</td>\n",
       "      <td>Female</td>\n",
       "      <td>61.00000</td>\n",
       "      <td>0</td>\n",
       "      <td>0</td>\n",
       "      <td>Yes</td>\n",
       "      <td>Self-employed</td>\n",
       "      <td>Rural</td>\n",
       "      <td>202.21000</td>\n",
       "      <td>NaN</td>\n",
       "      <td>never smoked</td>\n",
       "      <td>1</td>\n",
       "    </tr>\n",
       "    <tr>\n",
       "      <th>2</th>\n",
       "      <td>31112</td>\n",
       "      <td>Male</td>\n",
       "      <td>80.00000</td>\n",
       "      <td>0</td>\n",
       "      <td>1</td>\n",
       "      <td>Yes</td>\n",
       "      <td>Private</td>\n",
       "      <td>Rural</td>\n",
       "      <td>105.92000</td>\n",
       "      <td>32.50000</td>\n",
       "      <td>never smoked</td>\n",
       "      <td>1</td>\n",
       "    </tr>\n",
       "    <tr>\n",
       "      <th>3</th>\n",
       "      <td>60182</td>\n",
       "      <td>Female</td>\n",
       "      <td>49.00000</td>\n",
       "      <td>0</td>\n",
       "      <td>0</td>\n",
       "      <td>Yes</td>\n",
       "      <td>Private</td>\n",
       "      <td>Urban</td>\n",
       "      <td>171.23000</td>\n",
       "      <td>34.40000</td>\n",
       "      <td>smokes</td>\n",
       "      <td>1</td>\n",
       "    </tr>\n",
       "    <tr>\n",
       "      <th>4</th>\n",
       "      <td>1665</td>\n",
       "      <td>Female</td>\n",
       "      <td>79.00000</td>\n",
       "      <td>1</td>\n",
       "      <td>0</td>\n",
       "      <td>Yes</td>\n",
       "      <td>Self-employed</td>\n",
       "      <td>Rural</td>\n",
       "      <td>174.12000</td>\n",
       "      <td>24.00000</td>\n",
       "      <td>never smoked</td>\n",
       "      <td>1</td>\n",
       "    </tr>\n",
       "  </tbody>\n",
       "</table>\n",
       "</div>"
      ],
      "text/plain": [
       "      id  gender      age  hypertension  heart_disease ever_married  \\\n",
       "0   9046    Male 67.00000             0              1          Yes   \n",
       "1  51676  Female 61.00000             0              0          Yes   \n",
       "2  31112    Male 80.00000             0              1          Yes   \n",
       "3  60182  Female 49.00000             0              0          Yes   \n",
       "4   1665  Female 79.00000             1              0          Yes   \n",
       "\n",
       "       work_type Residence_type  avg_glucose_level      bmi   smoking_status  \\\n",
       "0        Private          Urban          228.69000 36.60000  formerly smoked   \n",
       "1  Self-employed          Rural          202.21000      NaN     never smoked   \n",
       "2        Private          Rural          105.92000 32.50000     never smoked   \n",
       "3        Private          Urban          171.23000 34.40000           smokes   \n",
       "4  Self-employed          Rural          174.12000 24.00000     never smoked   \n",
       "\n",
       "   stroke  \n",
       "0       1  \n",
       "1       1  \n",
       "2       1  \n",
       "3       1  \n",
       "4       1  "
      ]
     },
     "execution_count": 3,
     "metadata": {},
     "output_type": "execute_result"
    }
   ],
   "source": [
    "data.head()"
   ]
  },
  {
   "cell_type": "code",
   "execution_count": 4,
   "id": "eed34226-4de5-4bf2-b427-1353acc624c7",
   "metadata": {},
   "outputs": [],
   "source": [
    "data = data.drop(columns=['id'])\n",
    "target = data['stroke']\n",
    "data = data[data.columns[:-1]]"
   ]
  },
  {
   "cell_type": "code",
   "execution_count": 5,
   "id": "cd46cecb-b389-48b0-b6cf-1be91d59ebd1",
   "metadata": {},
   "outputs": [
    {
     "data": {
      "text/html": [
       "<div>\n",
       "<style scoped>\n",
       "    .dataframe tbody tr th:only-of-type {\n",
       "        vertical-align: middle;\n",
       "    }\n",
       "\n",
       "    .dataframe tbody tr th {\n",
       "        vertical-align: top;\n",
       "    }\n",
       "\n",
       "    .dataframe thead th {\n",
       "        text-align: right;\n",
       "    }\n",
       "</style>\n",
       "<table border=\"1\" class=\"dataframe\">\n",
       "  <thead>\n",
       "    <tr style=\"text-align: right;\">\n",
       "      <th></th>\n",
       "      <th>gender</th>\n",
       "      <th>age</th>\n",
       "      <th>hypertension</th>\n",
       "      <th>heart_disease</th>\n",
       "      <th>ever_married</th>\n",
       "      <th>work_type</th>\n",
       "      <th>Residence_type</th>\n",
       "      <th>avg_glucose_level</th>\n",
       "      <th>bmi</th>\n",
       "      <th>smoking_status</th>\n",
       "    </tr>\n",
       "  </thead>\n",
       "  <tbody>\n",
       "    <tr>\n",
       "      <th>0</th>\n",
       "      <td>Male</td>\n",
       "      <td>67.00000</td>\n",
       "      <td>0</td>\n",
       "      <td>1</td>\n",
       "      <td>Yes</td>\n",
       "      <td>Private</td>\n",
       "      <td>Urban</td>\n",
       "      <td>228.69000</td>\n",
       "      <td>36.60000</td>\n",
       "      <td>formerly smoked</td>\n",
       "    </tr>\n",
       "    <tr>\n",
       "      <th>1</th>\n",
       "      <td>Female</td>\n",
       "      <td>61.00000</td>\n",
       "      <td>0</td>\n",
       "      <td>0</td>\n",
       "      <td>Yes</td>\n",
       "      <td>Self-employed</td>\n",
       "      <td>Rural</td>\n",
       "      <td>202.21000</td>\n",
       "      <td>NaN</td>\n",
       "      <td>never smoked</td>\n",
       "    </tr>\n",
       "    <tr>\n",
       "      <th>2</th>\n",
       "      <td>Male</td>\n",
       "      <td>80.00000</td>\n",
       "      <td>0</td>\n",
       "      <td>1</td>\n",
       "      <td>Yes</td>\n",
       "      <td>Private</td>\n",
       "      <td>Rural</td>\n",
       "      <td>105.92000</td>\n",
       "      <td>32.50000</td>\n",
       "      <td>never smoked</td>\n",
       "    </tr>\n",
       "    <tr>\n",
       "      <th>3</th>\n",
       "      <td>Female</td>\n",
       "      <td>49.00000</td>\n",
       "      <td>0</td>\n",
       "      <td>0</td>\n",
       "      <td>Yes</td>\n",
       "      <td>Private</td>\n",
       "      <td>Urban</td>\n",
       "      <td>171.23000</td>\n",
       "      <td>34.40000</td>\n",
       "      <td>smokes</td>\n",
       "    </tr>\n",
       "    <tr>\n",
       "      <th>4</th>\n",
       "      <td>Female</td>\n",
       "      <td>79.00000</td>\n",
       "      <td>1</td>\n",
       "      <td>0</td>\n",
       "      <td>Yes</td>\n",
       "      <td>Self-employed</td>\n",
       "      <td>Rural</td>\n",
       "      <td>174.12000</td>\n",
       "      <td>24.00000</td>\n",
       "      <td>never smoked</td>\n",
       "    </tr>\n",
       "    <tr>\n",
       "      <th>...</th>\n",
       "      <td>...</td>\n",
       "      <td>...</td>\n",
       "      <td>...</td>\n",
       "      <td>...</td>\n",
       "      <td>...</td>\n",
       "      <td>...</td>\n",
       "      <td>...</td>\n",
       "      <td>...</td>\n",
       "      <td>...</td>\n",
       "      <td>...</td>\n",
       "    </tr>\n",
       "    <tr>\n",
       "      <th>5105</th>\n",
       "      <td>Female</td>\n",
       "      <td>80.00000</td>\n",
       "      <td>1</td>\n",
       "      <td>0</td>\n",
       "      <td>Yes</td>\n",
       "      <td>Private</td>\n",
       "      <td>Urban</td>\n",
       "      <td>83.75000</td>\n",
       "      <td>NaN</td>\n",
       "      <td>never smoked</td>\n",
       "    </tr>\n",
       "    <tr>\n",
       "      <th>5106</th>\n",
       "      <td>Female</td>\n",
       "      <td>81.00000</td>\n",
       "      <td>0</td>\n",
       "      <td>0</td>\n",
       "      <td>Yes</td>\n",
       "      <td>Self-employed</td>\n",
       "      <td>Urban</td>\n",
       "      <td>125.20000</td>\n",
       "      <td>40.00000</td>\n",
       "      <td>never smoked</td>\n",
       "    </tr>\n",
       "    <tr>\n",
       "      <th>5107</th>\n",
       "      <td>Female</td>\n",
       "      <td>35.00000</td>\n",
       "      <td>0</td>\n",
       "      <td>0</td>\n",
       "      <td>Yes</td>\n",
       "      <td>Self-employed</td>\n",
       "      <td>Rural</td>\n",
       "      <td>82.99000</td>\n",
       "      <td>30.60000</td>\n",
       "      <td>never smoked</td>\n",
       "    </tr>\n",
       "    <tr>\n",
       "      <th>5108</th>\n",
       "      <td>Male</td>\n",
       "      <td>51.00000</td>\n",
       "      <td>0</td>\n",
       "      <td>0</td>\n",
       "      <td>Yes</td>\n",
       "      <td>Private</td>\n",
       "      <td>Rural</td>\n",
       "      <td>166.29000</td>\n",
       "      <td>25.60000</td>\n",
       "      <td>formerly smoked</td>\n",
       "    </tr>\n",
       "    <tr>\n",
       "      <th>5109</th>\n",
       "      <td>Female</td>\n",
       "      <td>44.00000</td>\n",
       "      <td>0</td>\n",
       "      <td>0</td>\n",
       "      <td>Yes</td>\n",
       "      <td>Govt_job</td>\n",
       "      <td>Urban</td>\n",
       "      <td>85.28000</td>\n",
       "      <td>26.20000</td>\n",
       "      <td>Unknown</td>\n",
       "    </tr>\n",
       "  </tbody>\n",
       "</table>\n",
       "<p>5110 rows × 10 columns</p>\n",
       "</div>"
      ],
      "text/plain": [
       "      gender      age  hypertension  heart_disease ever_married  \\\n",
       "0       Male 67.00000             0              1          Yes   \n",
       "1     Female 61.00000             0              0          Yes   \n",
       "2       Male 80.00000             0              1          Yes   \n",
       "3     Female 49.00000             0              0          Yes   \n",
       "4     Female 79.00000             1              0          Yes   \n",
       "...      ...      ...           ...            ...          ...   \n",
       "5105  Female 80.00000             1              0          Yes   \n",
       "5106  Female 81.00000             0              0          Yes   \n",
       "5107  Female 35.00000             0              0          Yes   \n",
       "5108    Male 51.00000             0              0          Yes   \n",
       "5109  Female 44.00000             0              0          Yes   \n",
       "\n",
       "          work_type Residence_type  avg_glucose_level      bmi  \\\n",
       "0           Private          Urban          228.69000 36.60000   \n",
       "1     Self-employed          Rural          202.21000      NaN   \n",
       "2           Private          Rural          105.92000 32.50000   \n",
       "3           Private          Urban          171.23000 34.40000   \n",
       "4     Self-employed          Rural          174.12000 24.00000   \n",
       "...             ...            ...                ...      ...   \n",
       "5105        Private          Urban           83.75000      NaN   \n",
       "5106  Self-employed          Urban          125.20000 40.00000   \n",
       "5107  Self-employed          Rural           82.99000 30.60000   \n",
       "5108        Private          Rural          166.29000 25.60000   \n",
       "5109       Govt_job          Urban           85.28000 26.20000   \n",
       "\n",
       "       smoking_status  \n",
       "0     formerly smoked  \n",
       "1        never smoked  \n",
       "2        never smoked  \n",
       "3              smokes  \n",
       "4        never smoked  \n",
       "...               ...  \n",
       "5105     never smoked  \n",
       "5106     never smoked  \n",
       "5107     never smoked  \n",
       "5108  formerly smoked  \n",
       "5109          Unknown  \n",
       "\n",
       "[5110 rows x 10 columns]"
      ]
     },
     "execution_count": 5,
     "metadata": {},
     "output_type": "execute_result"
    }
   ],
   "source": [
    "data"
   ]
  },
  {
   "cell_type": "code",
   "execution_count": 6,
   "id": "fdba5eb1-4919-4e1f-8a73-7a6d08fd7522",
   "metadata": {},
   "outputs": [
    {
     "name": "stdout",
     "output_type": "stream",
     "text": [
      "<class 'pandas.core.frame.DataFrame'>\n",
      "RangeIndex: 5110 entries, 0 to 5109\n",
      "Data columns (total 10 columns):\n",
      " #   Column             Non-Null Count  Dtype  \n",
      "---  ------             --------------  -----  \n",
      " 0   gender             5110 non-null   object \n",
      " 1   age                5110 non-null   float64\n",
      " 2   hypertension       5110 non-null   int64  \n",
      " 3   heart_disease      5110 non-null   int64  \n",
      " 4   ever_married       5110 non-null   object \n",
      " 5   work_type          5110 non-null   object \n",
      " 6   Residence_type     5110 non-null   object \n",
      " 7   avg_glucose_level  5110 non-null   float64\n",
      " 8   bmi                4909 non-null   float64\n",
      " 9   smoking_status     5110 non-null   object \n",
      "dtypes: float64(3), int64(2), object(5)\n",
      "memory usage: 399.3+ KB\n"
     ]
    }
   ],
   "source": [
    "data.info()"
   ]
  },
  {
   "cell_type": "code",
   "execution_count": 7,
   "id": "8da72870-a9fa-4a6a-a4c3-25822eed3927",
   "metadata": {},
   "outputs": [
    {
     "data": {
      "text/html": [
       "<div>\n",
       "<style scoped>\n",
       "    .dataframe tbody tr th:only-of-type {\n",
       "        vertical-align: middle;\n",
       "    }\n",
       "\n",
       "    .dataframe tbody tr th {\n",
       "        vertical-align: top;\n",
       "    }\n",
       "\n",
       "    .dataframe thead th {\n",
       "        text-align: right;\n",
       "    }\n",
       "</style>\n",
       "<table border=\"1\" class=\"dataframe\">\n",
       "  <thead>\n",
       "    <tr style=\"text-align: right;\">\n",
       "      <th></th>\n",
       "      <th>gender</th>\n",
       "      <th>ever_married</th>\n",
       "      <th>work_type</th>\n",
       "      <th>Residence_type</th>\n",
       "      <th>smoking_status</th>\n",
       "    </tr>\n",
       "  </thead>\n",
       "  <tbody>\n",
       "    <tr>\n",
       "      <th>count</th>\n",
       "      <td>5110</td>\n",
       "      <td>5110</td>\n",
       "      <td>5110</td>\n",
       "      <td>5110</td>\n",
       "      <td>5110</td>\n",
       "    </tr>\n",
       "    <tr>\n",
       "      <th>unique</th>\n",
       "      <td>3</td>\n",
       "      <td>2</td>\n",
       "      <td>5</td>\n",
       "      <td>2</td>\n",
       "      <td>4</td>\n",
       "    </tr>\n",
       "    <tr>\n",
       "      <th>top</th>\n",
       "      <td>Female</td>\n",
       "      <td>Yes</td>\n",
       "      <td>Private</td>\n",
       "      <td>Urban</td>\n",
       "      <td>never smoked</td>\n",
       "    </tr>\n",
       "    <tr>\n",
       "      <th>freq</th>\n",
       "      <td>2994</td>\n",
       "      <td>3353</td>\n",
       "      <td>2925</td>\n",
       "      <td>2596</td>\n",
       "      <td>1892</td>\n",
       "    </tr>\n",
       "  </tbody>\n",
       "</table>\n",
       "</div>"
      ],
      "text/plain": [
       "        gender ever_married work_type Residence_type smoking_status\n",
       "count     5110         5110      5110           5110           5110\n",
       "unique       3            2         5              2              4\n",
       "top     Female          Yes   Private          Urban   never smoked\n",
       "freq      2994         3353      2925           2596           1892"
      ]
     },
     "execution_count": 7,
     "metadata": {},
     "output_type": "execute_result"
    }
   ],
   "source": [
    "data.describe(include='object')"
   ]
  },
  {
   "cell_type": "code",
   "execution_count": 8,
   "id": "d72dc28a-c9b9-4e0f-811a-a9c703b6adae",
   "metadata": {},
   "outputs": [
    {
     "data": {
      "text/plain": [
       "array(['Male', 'Female', 'Other'], dtype=object)"
      ]
     },
     "execution_count": 8,
     "metadata": {},
     "output_type": "execute_result"
    }
   ],
   "source": [
    "data.gender.unique()"
   ]
  },
  {
   "cell_type": "code",
   "execution_count": 9,
   "id": "a786749a-31fb-4132-83e5-8cf401a2c53b",
   "metadata": {},
   "outputs": [
    {
     "data": {
      "text/plain": [
       "1"
      ]
     },
     "execution_count": 9,
     "metadata": {},
     "output_type": "execute_result"
    }
   ],
   "source": [
    "(data['gender'] == 'Other').sum()"
   ]
  },
  {
   "cell_type": "code",
   "execution_count": 10,
   "id": "cc2b6a12-66a9-411d-a6ee-827448985fb8",
   "metadata": {},
   "outputs": [],
   "source": [
    "data = data[data.gender != 'Other']"
   ]
  },
  {
   "cell_type": "code",
   "execution_count": 11,
   "id": "ddb71ed6-7e36-41d8-a004-3b0b77cfdff6",
   "metadata": {},
   "outputs": [
    {
     "data": {
      "text/html": [
       "<div>\n",
       "<style scoped>\n",
       "    .dataframe tbody tr th:only-of-type {\n",
       "        vertical-align: middle;\n",
       "    }\n",
       "\n",
       "    .dataframe tbody tr th {\n",
       "        vertical-align: top;\n",
       "    }\n",
       "\n",
       "    .dataframe thead th {\n",
       "        text-align: right;\n",
       "    }\n",
       "</style>\n",
       "<table border=\"1\" class=\"dataframe\">\n",
       "  <thead>\n",
       "    <tr style=\"text-align: right;\">\n",
       "      <th></th>\n",
       "      <th>Unique Values</th>\n",
       "    </tr>\n",
       "    <tr>\n",
       "      <th>Feature</th>\n",
       "      <th></th>\n",
       "    </tr>\n",
       "  </thead>\n",
       "  <tbody>\n",
       "    <tr>\n",
       "      <th>gender</th>\n",
       "      <td>2</td>\n",
       "    </tr>\n",
       "    <tr>\n",
       "      <th>age</th>\n",
       "      <td>104</td>\n",
       "    </tr>\n",
       "    <tr>\n",
       "      <th>hypertension</th>\n",
       "      <td>2</td>\n",
       "    </tr>\n",
       "    <tr>\n",
       "      <th>heart_disease</th>\n",
       "      <td>2</td>\n",
       "    </tr>\n",
       "    <tr>\n",
       "      <th>ever_married</th>\n",
       "      <td>2</td>\n",
       "    </tr>\n",
       "    <tr>\n",
       "      <th>work_type</th>\n",
       "      <td>5</td>\n",
       "    </tr>\n",
       "    <tr>\n",
       "      <th>Residence_type</th>\n",
       "      <td>2</td>\n",
       "    </tr>\n",
       "    <tr>\n",
       "      <th>avg_glucose_level</th>\n",
       "      <td>3978</td>\n",
       "    </tr>\n",
       "    <tr>\n",
       "      <th>bmi</th>\n",
       "      <td>419</td>\n",
       "    </tr>\n",
       "    <tr>\n",
       "      <th>smoking_status</th>\n",
       "      <td>4</td>\n",
       "    </tr>\n",
       "  </tbody>\n",
       "</table>\n",
       "</div>"
      ],
      "text/plain": [
       "                   Unique Values\n",
       "Feature                         \n",
       "gender                         2\n",
       "age                          104\n",
       "hypertension                   2\n",
       "heart_disease                  2\n",
       "ever_married                   2\n",
       "work_type                      5\n",
       "Residence_type                 2\n",
       "avg_glucose_level           3978\n",
       "bmi                          419\n",
       "smoking_status                 4"
      ]
     },
     "execution_count": 11,
     "metadata": {},
     "output_type": "execute_result"
    }
   ],
   "source": [
    "df_uniques = pd.DataFrame([[i, len(data[i].unique())] for i in data.columns], columns=['Feature', 'Unique Values']).set_index('Feature')\n",
    "df_uniques"
   ]
  },
  {
   "cell_type": "code",
   "execution_count": 12,
   "id": "f0ccea2c-f272-4dac-9899-2bfc642a8260",
   "metadata": {},
   "outputs": [
    {
     "data": {
      "text/plain": [
       "['gender', 'hypertension', 'heart_disease', 'ever_married', 'Residence_type']"
      ]
     },
     "execution_count": 12,
     "metadata": {},
     "output_type": "execute_result"
    }
   ],
   "source": [
    "binary_variables = list(df_uniques[df_uniques['Unique Values'] == 2].index)\n",
    "binary_variables"
   ]
  },
  {
   "cell_type": "code",
   "execution_count": 13,
   "id": "06025d8b-815f-48aa-9e6b-01ef47fe7834",
   "metadata": {},
   "outputs": [
    {
     "data": {
      "text/plain": [
       "['work_type', 'smoking_status']"
      ]
     },
     "execution_count": 13,
     "metadata": {},
     "output_type": "execute_result"
    }
   ],
   "source": [
    "categorical_variables = list(df_uniques[(6 >= df_uniques['Unique Values']) & (df_uniques['Unique Values'] > 2)].index)\n",
    "categorical_variables"
   ]
  },
  {
   "cell_type": "code",
   "execution_count": 14,
   "id": "3b376985-d7e4-4605-aa73-b04586aea26a",
   "metadata": {},
   "outputs": [
    {
     "name": "stdout",
     "output_type": "stream",
     "text": [
      "[['work_type', ['Private', 'Self-employed', 'Govt_job', 'children', 'Never_worked']], ['smoking_status', ['formerly smoked', 'never smoked', 'smokes', 'Unknown']]]\n"
     ]
    }
   ],
   "source": [
    "print([[i, list(data[i].unique())] for i in categorical_variables])"
   ]
  },
  {
   "cell_type": "code",
   "execution_count": 15,
   "id": "dc41eb70-ab87-4464-9614-3e2696927461",
   "metadata": {},
   "outputs": [
    {
     "data": {
      "text/plain": [
       "(3565, 10)"
      ]
     },
     "execution_count": 15,
     "metadata": {},
     "output_type": "execute_result"
    }
   ],
   "source": [
    "data = data[data.smoking_status != 'Unknown']\n",
    "data.shape"
   ]
  },
  {
   "cell_type": "code",
   "execution_count": 16,
   "id": "adfc655e-41f7-4f67-872b-82210ebf78c9",
   "metadata": {},
   "outputs": [
    {
     "data": {
      "text/plain": [
       "['avg_glucose_level', 'bmi', 'age']"
      ]
     },
     "execution_count": 16,
     "metadata": {},
     "output_type": "execute_result"
    }
   ],
   "source": [
    "numeric_variables = list(set(data.columns) - set(categorical_variables) - set(binary_variables))\n",
    "numeric_variables"
   ]
  },
  {
   "cell_type": "code",
   "execution_count": 33,
   "id": "052b7767-2391-4e50-a940-ad6fedbce995",
   "metadata": {},
   "outputs": [
    {
     "data": {
      "image/png": "[encoded data removed]",
      "text/plain": [
       "<Figure size 1152x360 with 3 Axes>"
      ]
     },
     "metadata": {
      "needs_background": "light"
     },
     "output_type": "display_data"
    }
   ],
   "source": [
    "fig, axs = plt.subplots(1,3, figsize=(16,5))\n",
    "\n",
    "axlist = axs.flatten()\n",
    "\n",
    "for ax, feature in zip(axlist, numeric_variables):\n",
    "    ax.hist(data[feature])\n",
    "    ax.set_title(feature)\n",
    "    \n",
    "fig.suptitle('Numeric features', fontsize=16)\n",
    "plt.show()"
   ]
  },
  {
   "cell_type": "code",
   "execution_count": 34,
   "id": "81d41058-58ab-4718-91f5-b93c0370e16a",
   "metadata": {},
   "outputs": [
    {
     "data": {
      "image/png": "[encoded data removed]",
      "text/plain": [
       "<Figure size 864x360 with 2 Axes>"
      ]
     },
     "metadata": {
      "needs_background": "light"
     },
     "output_type": "display_data"
    }
   ],
   "source": [
    "fig, axs = plt.subplots(1,2, figsize=(12,5))\n",
    "\n",
    "axlist = axs.flatten()\n",
    "\n",
    "for ax, feature in zip(axlist, categorical_variables):\n",
    "    ax.hist(data[feature])\n",
    "    ax.set_title(feature)\n",
    "    \n",
    "fig.suptitle('Categorical features', fontsize=16)\n",
    "plt.show()"
   ]
  },
  {
   "cell_type": "code",
   "execution_count": 43,
   "id": "02fd0878-ea75-4b98-a723-340d0b33c527",
   "metadata": {},
   "outputs": [
    {
     "data": {
      "image/png": "[encoded data removed]",
      "text/plain": [
       "<Figure size 1728x360 with 5 Axes>"
      ]
     },
     "metadata": {
      "needs_background": "light"
     },
     "output_type": "display_data"
    }
   ],
   "source": [
    "fig, axs = plt.subplots(1,5, figsize=(24,5))\n",
    "\n",
    "axlist = axs.flatten()\n",
    "\n",
    "for ax, feature in zip(axlist, binary_variables):\n",
    "    ax.hist(data[feature])\n",
    "    ax.set_title(feature)\n",
    "    \n",
    "fig.suptitle('Binary features', fontsize=16)\n",
    "plt.show()"
   ]
  },
  {
   "cell_type": "code",
   "execution_count": 20,
   "id": "378390cd-41f7-4ccf-a187-7e563513155f",
   "metadata": {},
   "outputs": [
    {
     "data": {
      "image/png": "[encoded data removed]",
      "text/plain": [
       "<Figure size 432x288 with 1 Axes>"
      ]
     },
     "metadata": {
      "needs_background": "light"
     },
     "output_type": "display_data"
    }
   ],
   "source": [
    "plt.hist(target)\n",
    "plt.title('target')\n",
    "plt.show()"
   ]
  },
  {
   "cell_type": "code",
   "execution_count": 21,
   "id": "37b58d53-86f1-436b-b949-ff5e504f1337",
   "metadata": {},
   "outputs": [],
   "source": [
    "from sklearn.pipeline import Pipeline\n",
    "from sklearn.compose import ColumnTransformer\n",
    "from sklearn.impute import SimpleImputer\n",
    "from sklearn.preprocessing import StandardScaler, OneHotEncoder, PowerTransformer"
   ]
  },
  {
   "cell_type": "code",
   "execution_count": 22,
   "id": "4107a662-9be8-442a-b4a6-28deee5f4591",
   "metadata": {},
   "outputs": [],
   "source": [
    "num_transformer = Pipeline([('imputer', SimpleImputer(strategy='median')),\n",
    "                            ('normalizer', PowerTransformer(method='box-cox', standardize=True))\n",
    "                           ])\n",
    "\n",
    "cat_transformer = Pipeline([('encoder', OneHotEncoder(handle_unknown='ignore', drop='first'))])\n",
    "\n",
    "col_transformer = ColumnTransformer([('num_processing', num_transformer, numeric_variables),\n",
    "                                     ('cat_processing', cat_transformer, (categorical_variables+binary_variables))])"
   ]
  },
  {
   "cell_type": "code",
   "execution_count": 23,
   "id": "d5d61c19-e9e1-4be5-bc58-2e4b4fe4f5ef",
   "metadata": {},
   "outputs": [],
   "source": [
    "test_data_trans = col_transformer.fit_transform(data)"
   ]
  },
  {
   "cell_type": "code",
   "execution_count": 37,
   "id": "985c0f44-e007-427b-bf8f-c75a76bdf934",
   "metadata": {},
   "outputs": [],
   "source": [
    "transformed_cat_cols = col_transformer.named_transformers_['cat_processing'][0].get_feature_names_out(categorical_variables+binary_variables)"
   ]
  },
  {
   "cell_type": "code",
   "execution_count": 38,
   "id": "96bdd825-f60d-446c-b573-432442b27bcb",
   "metadata": {},
   "outputs": [
    {
     "data": {
      "text/html": [
       "<div>\n",
       "<style scoped>\n",
       "    .dataframe tbody tr th:only-of-type {\n",
       "        vertical-align: middle;\n",
       "    }\n",
       "\n",
       "    .dataframe tbody tr th {\n",
       "        vertical-align: top;\n",
       "    }\n",
       "\n",
       "    .dataframe thead tr th {\n",
       "        text-align: left;\n",
       "    }\n",
       "</style>\n",
       "<table border=\"1\" class=\"dataframe\">\n",
       "  <thead>\n",
       "    <tr>\n",
       "      <th></th>\n",
       "      <th>avg_glucose_level</th>\n",
       "      <th>bmi</th>\n",
       "      <th>age</th>\n",
       "      <th>work_type_Never_worked</th>\n",
       "      <th>work_type_Private</th>\n",
       "      <th>work_type_Self-employed</th>\n",
       "      <th>work_type_children</th>\n",
       "      <th>smoking_status_never smoked</th>\n",
       "      <th>smoking_status_smokes</th>\n",
       "      <th>gender_Male</th>\n",
       "      <th>hypertension_1</th>\n",
       "      <th>heart_disease_1</th>\n",
       "      <th>ever_married_Yes</th>\n",
       "      <th>Residence_type_Urban</th>\n",
       "    </tr>\n",
       "  </thead>\n",
       "  <tbody>\n",
       "    <tr>\n",
       "      <th>0</th>\n",
       "      <td>1.77493</td>\n",
       "      <td>0.97472</td>\n",
       "      <td>0.95832</td>\n",
       "      <td>0.00000</td>\n",
       "      <td>1.00000</td>\n",
       "      <td>0.00000</td>\n",
       "      <td>0.00000</td>\n",
       "      <td>0.00000</td>\n",
       "      <td>0.00000</td>\n",
       "      <td>1.00000</td>\n",
       "      <td>0.00000</td>\n",
       "      <td>1.00000</td>\n",
       "      <td>1.00000</td>\n",
       "      <td>1.00000</td>\n",
       "    </tr>\n",
       "    <tr>\n",
       "      <th>1</th>\n",
       "      <td>1.61510</td>\n",
       "      <td>-0.01634</td>\n",
       "      <td>0.65189</td>\n",
       "      <td>0.00000</td>\n",
       "      <td>0.00000</td>\n",
       "      <td>1.00000</td>\n",
       "      <td>0.00000</td>\n",
       "      <td>1.00000</td>\n",
       "      <td>0.00000</td>\n",
       "      <td>0.00000</td>\n",
       "      <td>0.00000</td>\n",
       "      <td>0.00000</td>\n",
       "      <td>1.00000</td>\n",
       "      <td>0.00000</td>\n",
       "    </tr>\n",
       "    <tr>\n",
       "      <th>2</th>\n",
       "      <td>0.33927</td>\n",
       "      <td>0.47175</td>\n",
       "      <td>1.61274</td>\n",
       "      <td>0.00000</td>\n",
       "      <td>1.00000</td>\n",
       "      <td>0.00000</td>\n",
       "      <td>0.00000</td>\n",
       "      <td>1.00000</td>\n",
       "      <td>0.00000</td>\n",
       "      <td>1.00000</td>\n",
       "      <td>0.00000</td>\n",
       "      <td>1.00000</td>\n",
       "      <td>1.00000</td>\n",
       "      <td>0.00000</td>\n",
       "    </tr>\n",
       "    <tr>\n",
       "      <th>3</th>\n",
       "      <td>1.36392</td>\n",
       "      <td>0.71504</td>\n",
       "      <td>0.02911</td>\n",
       "      <td>0.00000</td>\n",
       "      <td>1.00000</td>\n",
       "      <td>0.00000</td>\n",
       "      <td>0.00000</td>\n",
       "      <td>0.00000</td>\n",
       "      <td>1.00000</td>\n",
       "      <td>0.00000</td>\n",
       "      <td>0.00000</td>\n",
       "      <td>0.00000</td>\n",
       "      <td>1.00000</td>\n",
       "      <td>1.00000</td>\n",
       "    </tr>\n",
       "    <tr>\n",
       "      <th>4</th>\n",
       "      <td>1.39121</td>\n",
       "      <td>-0.91672</td>\n",
       "      <td>1.56282</td>\n",
       "      <td>0.00000</td>\n",
       "      <td>0.00000</td>\n",
       "      <td>1.00000</td>\n",
       "      <td>0.00000</td>\n",
       "      <td>1.00000</td>\n",
       "      <td>0.00000</td>\n",
       "      <td>0.00000</td>\n",
       "      <td>1.00000</td>\n",
       "      <td>0.00000</td>\n",
       "      <td>1.00000</td>\n",
       "      <td>0.00000</td>\n",
       "    </tr>\n",
       "  </tbody>\n",
       "</table>\n",
       "</div>"
      ],
      "text/plain": [
       "  avg_glucose_level      bmi     age work_type_Never_worked work_type_Private  \\\n",
       "0           1.77493  0.97472 0.95832                0.00000           1.00000   \n",
       "1           1.61510 -0.01634 0.65189                0.00000           0.00000   \n",
       "2           0.33927  0.47175 1.61274                0.00000           1.00000   \n",
       "3           1.36392  0.71504 0.02911                0.00000           1.00000   \n",
       "4           1.39121 -0.91672 1.56282                0.00000           0.00000   \n",
       "\n",
       "  work_type_Self-employed work_type_children smoking_status_never smoked  \\\n",
       "0                 0.00000            0.00000                     0.00000   \n",
       "1                 1.00000            0.00000                     1.00000   \n",
       "2                 0.00000            0.00000                     1.00000   \n",
       "3                 0.00000            0.00000                     0.00000   \n",
       "4                 1.00000            0.00000                     1.00000   \n",
       "\n",
       "  smoking_status_smokes gender_Male hypertension_1 heart_disease_1  \\\n",
       "0               0.00000     1.00000        0.00000         1.00000   \n",
       "1               0.00000     0.00000        0.00000         0.00000   \n",
       "2               0.00000     1.00000        0.00000         1.00000   \n",
       "3               1.00000     0.00000        0.00000         0.00000   \n",
       "4               0.00000     0.00000        1.00000         0.00000   \n",
       "\n",
       "  ever_married_Yes Residence_type_Urban  \n",
       "0          1.00000              1.00000  \n",
       "1          1.00000              0.00000  \n",
       "2          1.00000              0.00000  \n",
       "3          1.00000              1.00000  \n",
       "4          1.00000              0.00000  "
      ]
     },
     "execution_count": 38,
     "metadata": {},
     "output_type": "execute_result"
    }
   ],
   "source": [
    "test_dataframe_trans = pd.DataFrame(test_data_trans, columns=[numeric_variables+transformed_cat_cols.tolist()])\n",
    "test_dataframe_trans.head()"
   ]
  },
  {
   "cell_type": "code",
   "execution_count": 41,
   "id": "c2a222b9-ce6b-46bd-a73b-d7fc0a637020",
   "metadata": {},
   "outputs": [
    {
     "name": "stdout",
     "output_type": "stream",
     "text": [
      "<class 'pandas.core.frame.DataFrame'>\n",
      "RangeIndex: 3565 entries, 0 to 3564\n",
      "Data columns (total 14 columns):\n",
      " #   Column                          Non-Null Count  Dtype  \n",
      "---  ------                          --------------  -----  \n",
      " 0   (avg_glucose_level,)            3565 non-null   float64\n",
      " 1   (bmi,)                          3565 non-null   float64\n",
      " 2   (age,)                          3565 non-null   float64\n",
      " 3   (work_type_Never_worked,)       3565 non-null   float64\n",
      " 4   (work_type_Private,)            3565 non-null   float64\n",
      " 5   (work_type_Self-employed,)      3565 non-null   float64\n",
      " 6   (work_type_children,)           3565 non-null   float64\n",
      " 7   (smoking_status_never smoked,)  3565 non-null   float64\n",
      " 8   (smoking_status_smokes,)        3565 non-null   float64\n",
      " 9   (gender_Male,)                  3565 non-null   float64\n",
      " 10  (hypertension_1,)               3565 non-null   float64\n",
      " 11  (heart_disease_1,)              3565 non-null   float64\n",
      " 12  (ever_married_Yes,)             3565 non-null   float64\n",
      " 13  (Residence_type_Urban,)         3565 non-null   float64\n",
      "dtypes: float64(14)\n",
      "memory usage: 390.0 KB\n"
     ]
    },
    {
     "data": {
      "text/plain": [
       "None"
      ]
     },
     "metadata": {},
     "output_type": "display_data"
    }
   ],
   "source": [
    "test_dataframe_trans.info()"
   ]
  },
  {
   "cell_type": "code",
   "execution_count": 42,
   "id": "30d98294-88b9-4be5-aa1d-83f87af4a95a",
   "metadata": {},
   "outputs": [
    {
     "data": {
      "image/png": "[encoded data removed]",
      "text/plain": [
       "<Figure size 1152x360 with 3 Axes>"
      ]
     },
     "metadata": {
      "needs_background": "light"
     },
     "output_type": "display_data"
    }
   ],
   "source": [
    "fig, axs = plt.subplots(1,3, figsize=(16,5))\n",
    "\n",
    "axlist = axs.flatten()\n",
    "\n",
    "for ax, feature in zip(axlist, numeric_variables):\n",
    "    ax.hist(test_dataframe_trans[feature])\n",
    "    ax.set_title(feature)"
   ]
  },
  {
   "cell_type": "code",
   "execution_count": null,
   "id": "5a590b50-ac8d-429e-822b-ed09410eafde",
   "metadata": {},
   "outputs": [],
   "source": []
  }
 ],
 "metadata": {
  "kernelspec": {
   "display_name": "Python 3 (ipykernel)",
   "language": "python",
   "name": "python3"
  },
  "language_info": {
   "codemirror_mode": {
    "name": "ipython",
    "version": 3
   },
   "file_extension": ".py",
   "mimetype": "text/x-python",
   "name": "python",
   "nbconvert_exporter": "python",
   "pygments_lexer": "ipython3",
   "version": "3.9.7"
  }
 },
 "nbformat": 4,
 "nbformat_minor": 5
}
