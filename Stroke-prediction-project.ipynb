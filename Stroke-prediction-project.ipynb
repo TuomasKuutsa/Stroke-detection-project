{
 "cells": [
  {
   "cell_type": "code",
   "execution_count": 1,
   "id": "44b36af2-d652-46ff-bd00-fb3e0fa81310",
   "metadata": {},
   "outputs": [],
   "source": [
    "%matplotlib inline\n",
    "import pandas as pd\n",
    "import numpy as np\n",
    "import matplotlib.pyplot as plt\n",
    "import os\n",
    "import glob\n",
    "import itertools\n",
    "from pprint import pprint\n",
    "\n",
    "np.set_printoptions(suppress=True, precision=5)\n",
    "pd.options.display.float_format = '{:.5f}'.format"
   ]
  },
  {
   "cell_type": "code",
   "execution_count": 2,
   "id": "9d011823-b3de-444d-8c06-6e7e4604f829",
   "metadata": {},
   "outputs": [],
   "source": [
    "data = pd.read_csv('healthcare-dataset-stroke-data.csv', sep=',')"
   ]
  },
  {
   "cell_type": "code",
   "execution_count": 3,
   "id": "bc1231df-7e03-4076-ac33-ce78e338fddf",
   "metadata": {},
   "outputs": [
    {
     "data": {
      "text/html": [
       "<div>\n",
       "<style scoped>\n",
       "    .dataframe tbody tr th:only-of-type {\n",
       "        vertical-align: middle;\n",
       "    }\n",
       "\n",
       "    .dataframe tbody tr th {\n",
       "        vertical-align: top;\n",
       "    }\n",
       "\n",
       "    .dataframe thead th {\n",
       "        text-align: right;\n",
       "    }\n",
       "</style>\n",
       "<table border=\"1\" class=\"dataframe\">\n",
       "  <thead>\n",
       "    <tr style=\"text-align: right;\">\n",
       "      <th></th>\n",
       "      <th>id</th>\n",
       "      <th>gender</th>\n",
       "      <th>age</th>\n",
       "      <th>hypertension</th>\n",
       "      <th>heart_disease</th>\n",
       "      <th>ever_married</th>\n",
       "      <th>work_type</th>\n",
       "      <th>Residence_type</th>\n",
       "      <th>avg_glucose_level</th>\n",
       "      <th>bmi</th>\n",
       "      <th>smoking_status</th>\n",
       "      <th>stroke</th>\n",
       "    </tr>\n",
       "  </thead>\n",
       "  <tbody>\n",
       "    <tr>\n",
       "      <th>0</th>\n",
       "      <td>9046</td>\n",
       "      <td>Male</td>\n",
       "      <td>67.00000</td>\n",
       "      <td>0</td>\n",
       "      <td>1</td>\n",
       "      <td>Yes</td>\n",
       "      <td>Private</td>\n",
       "      <td>Urban</td>\n",
       "      <td>228.69000</td>\n",
       "      <td>36.60000</td>\n",
       "      <td>formerly smoked</td>\n",
       "      <td>1</td>\n",
       "    </tr>\n",
       "    <tr>\n",
       "      <th>1</th>\n",
       "      <td>51676</td>\n",
       "      <td>Female</td>\n",
       "      <td>61.00000</td>\n",
       "      <td>0</td>\n",
       "      <td>0</td>\n",
       "      <td>Yes</td>\n",
       "      <td>Self-employed</td>\n",
       "      <td>Rural</td>\n",
       "      <td>202.21000</td>\n",
       "      <td>NaN</td>\n",
       "      <td>never smoked</td>\n",
       "      <td>1</td>\n",
       "    </tr>\n",
       "    <tr>\n",
       "      <th>2</th>\n",
       "      <td>31112</td>\n",
       "      <td>Male</td>\n",
       "      <td>80.00000</td>\n",
       "      <td>0</td>\n",
       "      <td>1</td>\n",
       "      <td>Yes</td>\n",
       "      <td>Private</td>\n",
       "      <td>Rural</td>\n",
       "      <td>105.92000</td>\n",
       "      <td>32.50000</td>\n",
       "      <td>never smoked</td>\n",
       "      <td>1</td>\n",
       "    </tr>\n",
       "    <tr>\n",
       "      <th>3</th>\n",
       "      <td>60182</td>\n",
       "      <td>Female</td>\n",
       "      <td>49.00000</td>\n",
       "      <td>0</td>\n",
       "      <td>0</td>\n",
       "      <td>Yes</td>\n",
       "      <td>Private</td>\n",
       "      <td>Urban</td>\n",
       "      <td>171.23000</td>\n",
       "      <td>34.40000</td>\n",
       "      <td>smokes</td>\n",
       "      <td>1</td>\n",
       "    </tr>\n",
       "    <tr>\n",
       "      <th>4</th>\n",
       "      <td>1665</td>\n",
       "      <td>Female</td>\n",
       "      <td>79.00000</td>\n",
       "      <td>1</td>\n",
       "      <td>0</td>\n",
       "      <td>Yes</td>\n",
       "      <td>Self-employed</td>\n",
       "      <td>Rural</td>\n",
       "      <td>174.12000</td>\n",
       "      <td>24.00000</td>\n",
       "      <td>never smoked</td>\n",
       "      <td>1</td>\n",
       "    </tr>\n",
       "  </tbody>\n",
       "</table>\n",
       "</div>"
      ],
      "text/plain": [
       "      id  gender      age  hypertension  heart_disease ever_married  \\\n",
       "0   9046    Male 67.00000             0              1          Yes   \n",
       "1  51676  Female 61.00000             0              0          Yes   \n",
       "2  31112    Male 80.00000             0              1          Yes   \n",
       "3  60182  Female 49.00000             0              0          Yes   \n",
       "4   1665  Female 79.00000             1              0          Yes   \n",
       "\n",
       "       work_type Residence_type  avg_glucose_level      bmi   smoking_status  \\\n",
       "0        Private          Urban          228.69000 36.60000  formerly smoked   \n",
       "1  Self-employed          Rural          202.21000      NaN     never smoked   \n",
       "2        Private          Rural          105.92000 32.50000     never smoked   \n",
       "3        Private          Urban          171.23000 34.40000           smokes   \n",
       "4  Self-employed          Rural          174.12000 24.00000     never smoked   \n",
       "\n",
       "   stroke  \n",
       "0       1  \n",
       "1       1  \n",
       "2       1  \n",
       "3       1  \n",
       "4       1  "
      ]
     },
     "execution_count": 3,
     "metadata": {},
     "output_type": "execute_result"
    }
   ],
   "source": [
    "data.head()"
   ]
  },
  {
   "cell_type": "code",
   "execution_count": 4,
   "id": "eed34226-4de5-4bf2-b427-1353acc624c7",
   "metadata": {},
   "outputs": [],
   "source": [
    "data = data.drop(columns=['id'])"
   ]
  },
  {
   "cell_type": "code",
   "execution_count": 5,
   "id": "fdba5eb1-4919-4e1f-8a73-7a6d08fd7522",
   "metadata": {},
   "outputs": [
    {
     "name": "stdout",
     "output_type": "stream",
     "text": [
      "<class 'pandas.core.frame.DataFrame'>\n",
      "RangeIndex: 5110 entries, 0 to 5109\n",
      "Data columns (total 11 columns):\n",
      " #   Column             Non-Null Count  Dtype  \n",
      "---  ------             --------------  -----  \n",
      " 0   gender             5110 non-null   object \n",
      " 1   age                5110 non-null   float64\n",
      " 2   hypertension       5110 non-null   int64  \n",
      " 3   heart_disease      5110 non-null   int64  \n",
      " 4   ever_married       5110 non-null   object \n",
      " 5   work_type          5110 non-null   object \n",
      " 6   Residence_type     5110 non-null   object \n",
      " 7   avg_glucose_level  5110 non-null   float64\n",
      " 8   bmi                4909 non-null   float64\n",
      " 9   smoking_status     5110 non-null   object \n",
      " 10  stroke             5110 non-null   int64  \n",
      "dtypes: float64(3), int64(3), object(5)\n",
      "memory usage: 439.3+ KB\n"
     ]
    }
   ],
   "source": [
    "data.info()"
   ]
  },
  {
   "cell_type": "code",
   "execution_count": 6,
   "id": "8da72870-a9fa-4a6a-a4c3-25822eed3927",
   "metadata": {},
   "outputs": [
    {
     "data": {
      "text/html": [
       "<div>\n",
       "<style scoped>\n",
       "    .dataframe tbody tr th:only-of-type {\n",
       "        vertical-align: middle;\n",
       "    }\n",
       "\n",
       "    .dataframe tbody tr th {\n",
       "        vertical-align: top;\n",
       "    }\n",
       "\n",
       "    .dataframe thead th {\n",
       "        text-align: right;\n",
       "    }\n",
       "</style>\n",
       "<table border=\"1\" class=\"dataframe\">\n",
       "  <thead>\n",
       "    <tr style=\"text-align: right;\">\n",
       "      <th></th>\n",
       "      <th>gender</th>\n",
       "      <th>ever_married</th>\n",
       "      <th>work_type</th>\n",
       "      <th>Residence_type</th>\n",
       "      <th>smoking_status</th>\n",
       "    </tr>\n",
       "  </thead>\n",
       "  <tbody>\n",
       "    <tr>\n",
       "      <th>count</th>\n",
       "      <td>5110</td>\n",
       "      <td>5110</td>\n",
       "      <td>5110</td>\n",
       "      <td>5110</td>\n",
       "      <td>5110</td>\n",
       "    </tr>\n",
       "    <tr>\n",
       "      <th>unique</th>\n",
       "      <td>3</td>\n",
       "      <td>2</td>\n",
       "      <td>5</td>\n",
       "      <td>2</td>\n",
       "      <td>4</td>\n",
       "    </tr>\n",
       "    <tr>\n",
       "      <th>top</th>\n",
       "      <td>Female</td>\n",
       "      <td>Yes</td>\n",
       "      <td>Private</td>\n",
       "      <td>Urban</td>\n",
       "      <td>never smoked</td>\n",
       "    </tr>\n",
       "    <tr>\n",
       "      <th>freq</th>\n",
       "      <td>2994</td>\n",
       "      <td>3353</td>\n",
       "      <td>2925</td>\n",
       "      <td>2596</td>\n",
       "      <td>1892</td>\n",
       "    </tr>\n",
       "  </tbody>\n",
       "</table>\n",
       "</div>"
      ],
      "text/plain": [
       "        gender ever_married work_type Residence_type smoking_status\n",
       "count     5110         5110      5110           5110           5110\n",
       "unique       3            2         5              2              4\n",
       "top     Female          Yes   Private          Urban   never smoked\n",
       "freq      2994         3353      2925           2596           1892"
      ]
     },
     "execution_count": 6,
     "metadata": {},
     "output_type": "execute_result"
    }
   ],
   "source": [
    "data.describe(include='object')"
   ]
  },
  {
   "cell_type": "code",
   "execution_count": 7,
   "id": "d72dc28a-c9b9-4e0f-811a-a9c703b6adae",
   "metadata": {},
   "outputs": [
    {
     "data": {
      "text/plain": [
       "array(['Male', 'Female', 'Other'], dtype=object)"
      ]
     },
     "execution_count": 7,
     "metadata": {},
     "output_type": "execute_result"
    }
   ],
   "source": [
    "data.gender.unique()"
   ]
  },
  {
   "cell_type": "code",
   "execution_count": 8,
   "id": "a786749a-31fb-4132-83e5-8cf401a2c53b",
   "metadata": {},
   "outputs": [
    {
     "data": {
      "text/plain": [
       "1"
      ]
     },
     "execution_count": 8,
     "metadata": {},
     "output_type": "execute_result"
    }
   ],
   "source": [
    "(data['gender'] == 'Other').sum()"
   ]
  },
  {
   "cell_type": "code",
   "execution_count": 9,
   "id": "cc2b6a12-66a9-411d-a6ee-827448985fb8",
   "metadata": {},
   "outputs": [],
   "source": [
    "data = data[data.gender != 'Other']"
   ]
  },
  {
   "cell_type": "code",
   "execution_count": 10,
   "id": "ddb71ed6-7e36-41d8-a004-3b0b77cfdff6",
   "metadata": {},
   "outputs": [
    {
     "data": {
      "text/html": [
       "<div>\n",
       "<style scoped>\n",
       "    .dataframe tbody tr th:only-of-type {\n",
       "        vertical-align: middle;\n",
       "    }\n",
       "\n",
       "    .dataframe tbody tr th {\n",
       "        vertical-align: top;\n",
       "    }\n",
       "\n",
       "    .dataframe thead th {\n",
       "        text-align: right;\n",
       "    }\n",
       "</style>\n",
       "<table border=\"1\" class=\"dataframe\">\n",
       "  <thead>\n",
       "    <tr style=\"text-align: right;\">\n",
       "      <th></th>\n",
       "      <th>Unique Values</th>\n",
       "    </tr>\n",
       "    <tr>\n",
       "      <th>Feature</th>\n",
       "      <th></th>\n",
       "    </tr>\n",
       "  </thead>\n",
       "  <tbody>\n",
       "    <tr>\n",
       "      <th>gender</th>\n",
       "      <td>2</td>\n",
       "    </tr>\n",
       "    <tr>\n",
       "      <th>age</th>\n",
       "      <td>104</td>\n",
       "    </tr>\n",
       "    <tr>\n",
       "      <th>hypertension</th>\n",
       "      <td>2</td>\n",
       "    </tr>\n",
       "    <tr>\n",
       "      <th>heart_disease</th>\n",
       "      <td>2</td>\n",
       "    </tr>\n",
       "    <tr>\n",
       "      <th>ever_married</th>\n",
       "      <td>2</td>\n",
       "    </tr>\n",
       "    <tr>\n",
       "      <th>work_type</th>\n",
       "      <td>5</td>\n",
       "    </tr>\n",
       "    <tr>\n",
       "      <th>Residence_type</th>\n",
       "      <td>2</td>\n",
       "    </tr>\n",
       "    <tr>\n",
       "      <th>avg_glucose_level</th>\n",
       "      <td>3978</td>\n",
       "    </tr>\n",
       "    <tr>\n",
       "      <th>bmi</th>\n",
       "      <td>419</td>\n",
       "    </tr>\n",
       "    <tr>\n",
       "      <th>smoking_status</th>\n",
       "      <td>4</td>\n",
       "    </tr>\n",
       "    <tr>\n",
       "      <th>stroke</th>\n",
       "      <td>2</td>\n",
       "    </tr>\n",
       "  </tbody>\n",
       "</table>\n",
       "</div>"
      ],
      "text/plain": [
       "                   Unique Values\n",
       "Feature                         \n",
       "gender                         2\n",
       "age                          104\n",
       "hypertension                   2\n",
       "heart_disease                  2\n",
       "ever_married                   2\n",
       "work_type                      5\n",
       "Residence_type                 2\n",
       "avg_glucose_level           3978\n",
       "bmi                          419\n",
       "smoking_status                 4\n",
       "stroke                         2"
      ]
     },
     "execution_count": 10,
     "metadata": {},
     "output_type": "execute_result"
    }
   ],
   "source": [
    "df_uniques = pd.DataFrame([[i, len(data[i].unique())] for i in data.columns], columns=['Feature', 'Unique Values']).set_index('Feature')\n",
    "df_uniques"
   ]
  },
  {
   "cell_type": "code",
   "execution_count": 11,
   "id": "f0ccea2c-f272-4dac-9899-2bfc642a8260",
   "metadata": {},
   "outputs": [
    {
     "data": {
      "text/plain": [
       "['gender',\n",
       " 'hypertension',\n",
       " 'heart_disease',\n",
       " 'ever_married',\n",
       " 'Residence_type',\n",
       " 'stroke']"
      ]
     },
     "execution_count": 11,
     "metadata": {},
     "output_type": "execute_result"
    }
   ],
   "source": [
    "binary_variables = list(df_uniques[df_uniques['Unique Values'] == 2].index)\n",
    "binary_variables"
   ]
  },
  {
   "cell_type": "code",
   "execution_count": 12,
   "id": "06025d8b-815f-48aa-9e6b-01ef47fe7834",
   "metadata": {},
   "outputs": [
    {
     "data": {
      "text/plain": [
       "['work_type', 'smoking_status']"
      ]
     },
     "execution_count": 12,
     "metadata": {},
     "output_type": "execute_result"
    }
   ],
   "source": [
    "categorical_variables = list(df_uniques[(6 >= df_uniques['Unique Values']) & (df_uniques['Unique Values'] > 2)].index)\n",
    "categorical_variables"
   ]
  },
  {
   "cell_type": "code",
   "execution_count": 13,
   "id": "3b376985-d7e4-4605-aa73-b04586aea26a",
   "metadata": {},
   "outputs": [
    {
     "name": "stdout",
     "output_type": "stream",
     "text": [
      "[['work_type', ['Private', 'Self-employed', 'Govt_job', 'children', 'Never_worked']], ['smoking_status', ['formerly smoked', 'never smoked', 'smokes', 'Unknown']]]\n"
     ]
    }
   ],
   "source": [
    "print([[i, list(data[i].unique())] for i in categorical_variables])"
   ]
  },
  {
   "cell_type": "code",
   "execution_count": 14,
   "id": "dc41eb70-ab87-4464-9614-3e2696927461",
   "metadata": {},
   "outputs": [
    {
     "data": {
      "text/plain": [
       "(3565, 11)"
      ]
     },
     "execution_count": 14,
     "metadata": {},
     "output_type": "execute_result"
    }
   ],
   "source": [
    "data = data[data.smoking_status != 'Unknown']\n",
    "data.shape"
   ]
  },
  {
   "cell_type": "code",
   "execution_count": 15,
   "id": "adfc655e-41f7-4f67-872b-82210ebf78c9",
   "metadata": {},
   "outputs": [
    {
     "data": {
      "text/plain": [
       "['bmi', 'age', 'avg_glucose_level']"
      ]
     },
     "execution_count": 15,
     "metadata": {},
     "output_type": "execute_result"
    }
   ],
   "source": [
    "numeric_variables = list(set(data.columns) - set(categorical_variables) - set(binary_variables))\n",
    "numeric_variables"
   ]
  },
  {
   "cell_type": "code",
   "execution_count": 16,
   "id": "052b7767-2391-4e50-a940-ad6fedbce995",
   "metadata": {},
   "outputs": [
    {
     "data": {
      "image/png": "[encoded data removed]",
      "text/plain": [
       "<Figure size 1152x360 with 3 Axes>"
      ]
     },
     "metadata": {
      "needs_background": "light"
     },
     "output_type": "display_data"
    }
   ],
   "source": [
    "fig, axs = plt.subplots(1,3, figsize=(16,5))\n",
    "\n",
    "axlist = axs.flatten()\n",
    "\n",
    "for ax, feature in zip(axlist, numeric_variables):\n",
    "    ax.hist(data[feature], bins=30)\n",
    "    ax.set_title(feature)\n",
    "    \n",
    "fig.suptitle('Numeric variables', fontsize=16)\n",
    "plt.show()"
   ]
  },
  {
   "cell_type": "code",
   "execution_count": 17,
   "id": "81d41058-58ab-4718-91f5-b93c0370e16a",
   "metadata": {},
   "outputs": [
    {
     "data": {
      "image/png": "[encoded data removed]",
      "text/plain": [
       "<Figure size 864x360 with 2 Axes>"
      ]
     },
     "metadata": {
      "needs_background": "light"
     },
     "output_type": "display_data"
    }
   ],
   "source": [
    "fig, axs = plt.subplots(1,2, figsize=(12,5))\n",
    "\n",
    "axlist = axs.flatten()\n",
    "\n",
    "for ax, feature in zip(axlist, categorical_variables):\n",
    "    ax.hist(data[feature])\n",
    "    ax.set_title(feature)\n",
    "    \n",
    "fig.suptitle('Categorical features', fontsize=16)\n",
    "plt.show()"
   ]
  },
  {
   "cell_type": "code",
   "execution_count": 18,
   "id": "02fd0878-ea75-4b98-a723-340d0b33c527",
   "metadata": {},
   "outputs": [
    {
     "data": {
      "image/png": "[encoded data removed]",
      "text/plain": [
       "<Figure size 1728x360 with 5 Axes>"
      ]
     },
     "metadata": {
      "needs_background": "light"
     },
     "output_type": "display_data"
    }
   ],
   "source": [
    "fig, axs = plt.subplots(1,5, figsize=(24,5))\n",
    "\n",
    "axlist = axs.flatten()\n",
    "\n",
    "binary_variables = binary_variables[:-1]\n",
    "\n",
    "for ax, feature in zip(axlist, binary_variables):\n",
    "    ax.hist(data[feature])\n",
    "    ax.set_title(feature)\n",
    "    \n",
    "fig.suptitle('Binary features', fontsize=16)\n",
    "plt.show()"
   ]
  },
  {
   "cell_type": "code",
   "execution_count": 19,
   "id": "378390cd-41f7-4ccf-a187-7e563513155f",
   "metadata": {},
   "outputs": [
    {
     "data": {
      "image/png": "[encoded data removed]",
      "text/plain": [
       "<Figure size 432x288 with 1 Axes>"
      ]
     },
     "metadata": {
      "needs_background": "light"
     },
     "output_type": "display_data"
    }
   ],
   "source": [
    "plt.hist(data.stroke)\n",
    "plt.title('stroke')\n",
    "plt.show()"
   ]
  },
  {
   "cell_type": "code",
   "execution_count": 20,
   "id": "37b58d53-86f1-436b-b949-ff5e504f1337",
   "metadata": {},
   "outputs": [],
   "source": [
    "from sklearn.pipeline import Pipeline\n",
    "from sklearn.compose import ColumnTransformer\n",
    "from sklearn.impute import SimpleImputer\n",
    "from sklearn.preprocessing import StandardScaler, OneHotEncoder, PowerTransformer, MinMaxScaler"
   ]
  },
  {
   "cell_type": "code",
   "execution_count": 21,
   "id": "a1a17fa1-382c-4b1f-bc40-df6116f06551",
   "metadata": {},
   "outputs": [
    {
     "data": {
      "text/html": [
       "<div>\n",
       "<style scoped>\n",
       "    .dataframe tbody tr th:only-of-type {\n",
       "        vertical-align: middle;\n",
       "    }\n",
       "\n",
       "    .dataframe tbody tr th {\n",
       "        vertical-align: top;\n",
       "    }\n",
       "\n",
       "    .dataframe thead th {\n",
       "        text-align: right;\n",
       "    }\n",
       "</style>\n",
       "<table border=\"1\" class=\"dataframe\">\n",
       "  <thead>\n",
       "    <tr style=\"text-align: right;\">\n",
       "      <th></th>\n",
       "      <th>gender</th>\n",
       "      <th>age</th>\n",
       "      <th>hypertension</th>\n",
       "      <th>heart_disease</th>\n",
       "      <th>ever_married</th>\n",
       "      <th>work_type</th>\n",
       "      <th>Residence_type</th>\n",
       "      <th>avg_glucose_level</th>\n",
       "      <th>bmi</th>\n",
       "      <th>smoking_status</th>\n",
       "    </tr>\n",
       "  </thead>\n",
       "  <tbody>\n",
       "    <tr>\n",
       "      <th>0</th>\n",
       "      <td>Male</td>\n",
       "      <td>67.00000</td>\n",
       "      <td>0</td>\n",
       "      <td>1</td>\n",
       "      <td>Yes</td>\n",
       "      <td>Private</td>\n",
       "      <td>Urban</td>\n",
       "      <td>228.69000</td>\n",
       "      <td>36.60000</td>\n",
       "      <td>formerly smoked</td>\n",
       "    </tr>\n",
       "    <tr>\n",
       "      <th>1</th>\n",
       "      <td>Female</td>\n",
       "      <td>61.00000</td>\n",
       "      <td>0</td>\n",
       "      <td>0</td>\n",
       "      <td>Yes</td>\n",
       "      <td>Self-employed</td>\n",
       "      <td>Rural</td>\n",
       "      <td>202.21000</td>\n",
       "      <td>NaN</td>\n",
       "      <td>never smoked</td>\n",
       "    </tr>\n",
       "    <tr>\n",
       "      <th>2</th>\n",
       "      <td>Male</td>\n",
       "      <td>80.00000</td>\n",
       "      <td>0</td>\n",
       "      <td>1</td>\n",
       "      <td>Yes</td>\n",
       "      <td>Private</td>\n",
       "      <td>Rural</td>\n",
       "      <td>105.92000</td>\n",
       "      <td>32.50000</td>\n",
       "      <td>never smoked</td>\n",
       "    </tr>\n",
       "    <tr>\n",
       "      <th>3</th>\n",
       "      <td>Female</td>\n",
       "      <td>49.00000</td>\n",
       "      <td>0</td>\n",
       "      <td>0</td>\n",
       "      <td>Yes</td>\n",
       "      <td>Private</td>\n",
       "      <td>Urban</td>\n",
       "      <td>171.23000</td>\n",
       "      <td>34.40000</td>\n",
       "      <td>smokes</td>\n",
       "    </tr>\n",
       "    <tr>\n",
       "      <th>4</th>\n",
       "      <td>Female</td>\n",
       "      <td>79.00000</td>\n",
       "      <td>1</td>\n",
       "      <td>0</td>\n",
       "      <td>Yes</td>\n",
       "      <td>Self-employed</td>\n",
       "      <td>Rural</td>\n",
       "      <td>174.12000</td>\n",
       "      <td>24.00000</td>\n",
       "      <td>never smoked</td>\n",
       "    </tr>\n",
       "  </tbody>\n",
       "</table>\n",
       "</div>"
      ],
      "text/plain": [
       "   gender      age  hypertension  heart_disease ever_married      work_type  \\\n",
       "0    Male 67.00000             0              1          Yes        Private   \n",
       "1  Female 61.00000             0              0          Yes  Self-employed   \n",
       "2    Male 80.00000             0              1          Yes        Private   \n",
       "3  Female 49.00000             0              0          Yes        Private   \n",
       "4  Female 79.00000             1              0          Yes  Self-employed   \n",
       "\n",
       "  Residence_type  avg_glucose_level      bmi   smoking_status  \n",
       "0          Urban          228.69000 36.60000  formerly smoked  \n",
       "1          Rural          202.21000      NaN     never smoked  \n",
       "2          Rural          105.92000 32.50000     never smoked  \n",
       "3          Urban          171.23000 34.40000           smokes  \n",
       "4          Rural          174.12000 24.00000     never smoked  "
      ]
     },
     "execution_count": 21,
     "metadata": {},
     "output_type": "execute_result"
    }
   ],
   "source": [
    "y = data['stroke'].reset_index(drop=True)\n",
    "X = data[data.columns[:-1]].reset_index(drop=True)\n",
    "X.head()"
   ]
  },
  {
   "cell_type": "code",
   "execution_count": 22,
   "id": "4107a662-9be8-442a-b4a6-28deee5f4591",
   "metadata": {},
   "outputs": [],
   "source": [
    "num_transformer = Pipeline([('imputer', SimpleImputer(strategy='median')),\n",
    "                            ('normalizer', PowerTransformer(method='box-cox')),\n",
    "                            ('scaler', StandardScaler())\n",
    "                           ])\n",
    "\n",
    "cat_transformer = Pipeline([('encoder', OneHotEncoder(handle_unknown='ignore', drop='first'))])\n",
    "\n",
    "col_transformer = ColumnTransformer([('num_processing', num_transformer, numeric_variables),\n",
    "                                     ('cat_processing', cat_transformer, (categorical_variables+binary_variables))])"
   ]
  },
  {
   "cell_type": "code",
   "execution_count": 23,
   "id": "d5d61c19-e9e1-4be5-bc58-2e4b4fe4f5ef",
   "metadata": {},
   "outputs": [],
   "source": [
    "test_data_trans = col_transformer.fit_transform(X)"
   ]
  },
  {
   "cell_type": "code",
   "execution_count": 24,
   "id": "985c0f44-e007-427b-bf8f-c75a76bdf934",
   "metadata": {},
   "outputs": [],
   "source": [
    "transformed_cat_cols = col_transformer.named_transformers_['cat_processing'][0].get_feature_names_out(categorical_variables+binary_variables)"
   ]
  },
  {
   "cell_type": "code",
   "execution_count": 25,
   "id": "96bdd825-f60d-446c-b573-432442b27bcb",
   "metadata": {},
   "outputs": [
    {
     "data": {
      "text/html": [
       "<div>\n",
       "<style scoped>\n",
       "    .dataframe tbody tr th:only-of-type {\n",
       "        vertical-align: middle;\n",
       "    }\n",
       "\n",
       "    .dataframe tbody tr th {\n",
       "        vertical-align: top;\n",
       "    }\n",
       "\n",
       "    .dataframe thead tr th {\n",
       "        text-align: left;\n",
       "    }\n",
       "</style>\n",
       "<table border=\"1\" class=\"dataframe\">\n",
       "  <thead>\n",
       "    <tr>\n",
       "      <th></th>\n",
       "      <th>bmi</th>\n",
       "      <th>age</th>\n",
       "      <th>avg_glucose_level</th>\n",
       "      <th>work_type_Never_worked</th>\n",
       "      <th>work_type_Private</th>\n",
       "      <th>work_type_Self-employed</th>\n",
       "      <th>work_type_children</th>\n",
       "      <th>smoking_status_never smoked</th>\n",
       "      <th>smoking_status_smokes</th>\n",
       "      <th>gender_Male</th>\n",
       "      <th>hypertension_1</th>\n",
       "      <th>heart_disease_1</th>\n",
       "      <th>ever_married_Yes</th>\n",
       "      <th>Residence_type_Urban</th>\n",
       "    </tr>\n",
       "  </thead>\n",
       "  <tbody>\n",
       "    <tr>\n",
       "      <th>0</th>\n",
       "      <td>0.97472</td>\n",
       "      <td>0.95832</td>\n",
       "      <td>1.77493</td>\n",
       "      <td>0.00000</td>\n",
       "      <td>1.00000</td>\n",
       "      <td>0.00000</td>\n",
       "      <td>0.00000</td>\n",
       "      <td>0.00000</td>\n",
       "      <td>0.00000</td>\n",
       "      <td>1.00000</td>\n",
       "      <td>0.00000</td>\n",
       "      <td>1.00000</td>\n",
       "      <td>1.00000</td>\n",
       "      <td>1.00000</td>\n",
       "    </tr>\n",
       "    <tr>\n",
       "      <th>1</th>\n",
       "      <td>-0.01634</td>\n",
       "      <td>0.65189</td>\n",
       "      <td>1.61510</td>\n",
       "      <td>0.00000</td>\n",
       "      <td>0.00000</td>\n",
       "      <td>1.00000</td>\n",
       "      <td>0.00000</td>\n",
       "      <td>1.00000</td>\n",
       "      <td>0.00000</td>\n",
       "      <td>0.00000</td>\n",
       "      <td>0.00000</td>\n",
       "      <td>0.00000</td>\n",
       "      <td>1.00000</td>\n",
       "      <td>0.00000</td>\n",
       "    </tr>\n",
       "    <tr>\n",
       "      <th>2</th>\n",
       "      <td>0.47175</td>\n",
       "      <td>1.61274</td>\n",
       "      <td>0.33927</td>\n",
       "      <td>0.00000</td>\n",
       "      <td>1.00000</td>\n",
       "      <td>0.00000</td>\n",
       "      <td>0.00000</td>\n",
       "      <td>1.00000</td>\n",
       "      <td>0.00000</td>\n",
       "      <td>1.00000</td>\n",
       "      <td>0.00000</td>\n",
       "      <td>1.00000</td>\n",
       "      <td>1.00000</td>\n",
       "      <td>0.00000</td>\n",
       "    </tr>\n",
       "    <tr>\n",
       "      <th>3</th>\n",
       "      <td>0.71504</td>\n",
       "      <td>0.02911</td>\n",
       "      <td>1.36392</td>\n",
       "      <td>0.00000</td>\n",
       "      <td>1.00000</td>\n",
       "      <td>0.00000</td>\n",
       "      <td>0.00000</td>\n",
       "      <td>0.00000</td>\n",
       "      <td>1.00000</td>\n",
       "      <td>0.00000</td>\n",
       "      <td>0.00000</td>\n",
       "      <td>0.00000</td>\n",
       "      <td>1.00000</td>\n",
       "      <td>1.00000</td>\n",
       "    </tr>\n",
       "    <tr>\n",
       "      <th>4</th>\n",
       "      <td>-0.91672</td>\n",
       "      <td>1.56282</td>\n",
       "      <td>1.39121</td>\n",
       "      <td>0.00000</td>\n",
       "      <td>0.00000</td>\n",
       "      <td>1.00000</td>\n",
       "      <td>0.00000</td>\n",
       "      <td>1.00000</td>\n",
       "      <td>0.00000</td>\n",
       "      <td>0.00000</td>\n",
       "      <td>1.00000</td>\n",
       "      <td>0.00000</td>\n",
       "      <td>1.00000</td>\n",
       "      <td>0.00000</td>\n",
       "    </tr>\n",
       "  </tbody>\n",
       "</table>\n",
       "</div>"
      ],
      "text/plain": [
       "       bmi     age avg_glucose_level work_type_Never_worked work_type_Private  \\\n",
       "0  0.97472 0.95832           1.77493                0.00000           1.00000   \n",
       "1 -0.01634 0.65189           1.61510                0.00000           0.00000   \n",
       "2  0.47175 1.61274           0.33927                0.00000           1.00000   \n",
       "3  0.71504 0.02911           1.36392                0.00000           1.00000   \n",
       "4 -0.91672 1.56282           1.39121                0.00000           0.00000   \n",
       "\n",
       "  work_type_Self-employed work_type_children smoking_status_never smoked  \\\n",
       "0                 0.00000            0.00000                     0.00000   \n",
       "1                 1.00000            0.00000                     1.00000   \n",
       "2                 0.00000            0.00000                     1.00000   \n",
       "3                 0.00000            0.00000                     0.00000   \n",
       "4                 1.00000            0.00000                     1.00000   \n",
       "\n",
       "  smoking_status_smokes gender_Male hypertension_1 heart_disease_1  \\\n",
       "0               0.00000     1.00000        0.00000         1.00000   \n",
       "1               0.00000     0.00000        0.00000         0.00000   \n",
       "2               0.00000     1.00000        0.00000         1.00000   \n",
       "3               1.00000     0.00000        0.00000         0.00000   \n",
       "4               0.00000     0.00000        1.00000         0.00000   \n",
       "\n",
       "  ever_married_Yes Residence_type_Urban  \n",
       "0          1.00000              1.00000  \n",
       "1          1.00000              0.00000  \n",
       "2          1.00000              0.00000  \n",
       "3          1.00000              1.00000  \n",
       "4          1.00000              0.00000  "
      ]
     },
     "execution_count": 25,
     "metadata": {},
     "output_type": "execute_result"
    }
   ],
   "source": [
    "test_dataframe_trans = pd.DataFrame(test_data_trans, columns=[numeric_variables+transformed_cat_cols.tolist()])\n",
    "test_dataframe_trans.head()"
   ]
  },
  {
   "cell_type": "code",
   "execution_count": 26,
   "id": "c2a222b9-ce6b-46bd-a73b-d7fc0a637020",
   "metadata": {},
   "outputs": [
    {
     "name": "stdout",
     "output_type": "stream",
     "text": [
      "<class 'pandas.core.frame.DataFrame'>\n",
      "RangeIndex: 3565 entries, 0 to 3564\n",
      "Data columns (total 14 columns):\n",
      " #   Column                          Non-Null Count  Dtype  \n",
      "---  ------                          --------------  -----  \n",
      " 0   (bmi,)                          3565 non-null   float64\n",
      " 1   (age,)                          3565 non-null   float64\n",
      " 2   (avg_glucose_level,)            3565 non-null   float64\n",
      " 3   (work_type_Never_worked,)       3565 non-null   float64\n",
      " 4   (work_type_Private,)            3565 non-null   float64\n",
      " 5   (work_type_Self-employed,)      3565 non-null   float64\n",
      " 6   (work_type_children,)           3565 non-null   float64\n",
      " 7   (smoking_status_never smoked,)  3565 non-null   float64\n",
      " 8   (smoking_status_smokes,)        3565 non-null   float64\n",
      " 9   (gender_Male,)                  3565 non-null   float64\n",
      " 10  (hypertension_1,)               3565 non-null   float64\n",
      " 11  (heart_disease_1,)              3565 non-null   float64\n",
      " 12  (ever_married_Yes,)             3565 non-null   float64\n",
      " 13  (Residence_type_Urban,)         3565 non-null   float64\n",
      "dtypes: float64(14)\n",
      "memory usage: 390.0 KB\n"
     ]
    }
   ],
   "source": [
    "test_dataframe_trans.info()"
   ]
  },
  {
   "cell_type": "code",
   "execution_count": 27,
   "id": "30d98294-88b9-4be5-aa1d-83f87af4a95a",
   "metadata": {},
   "outputs": [
    {
     "data": {
      "image/png": "[encoded data removed]",
      "text/plain": [
       "<Figure size 1152x360 with 3 Axes>"
      ]
     },
     "metadata": {
      "needs_background": "light"
     },
     "output_type": "display_data"
    }
   ],
   "source": [
    "fig, axs = plt.subplots(1,3, figsize=(16,5))\n",
    "\n",
    "axlist = axs.flatten()\n",
    "\n",
    "for ax, feature in zip(axlist, numeric_variables):\n",
    "    ax.hist(test_dataframe_trans[feature])\n",
    "    ax.set_title(feature)"
   ]
  },
  {
   "cell_type": "code",
   "execution_count": 28,
   "id": "b5117be9-a4b2-451a-80db-022fc76e2b60",
   "metadata": {},
   "outputs": [],
   "source": [
    "from sklearn.model_selection import StratifiedShuffleSplit\n",
    "from imblearn.pipeline import Pipeline, make_pipeline\n",
    "from imblearn.over_sampling import SMOTEN\n",
    "from imblearn.under_sampling import RandomUnderSampler\n",
    "from sklearn.linear_model import LogisticRegression\n",
    "from sklearn.svm import SVC\n",
    "from sklearn.ensemble import RandomForestClassifier\n",
    "from sklearn.neural_network import MLPClassifier\n",
    "from sklearn.model_selection import GridSearchCV\n",
    "import joblib"
   ]
  },
  {
   "cell_type": "code",
   "execution_count": 29,
   "id": "05665b4a-1e22-456b-b55d-15625273cb53",
   "metadata": {},
   "outputs": [
    {
     "name": "stdout",
     "output_type": "stream",
     "text": [
      "(2495, 10)\n",
      "(2495,)\n",
      "(1070, 10)\n",
      "(1070,)\n"
     ]
    }
   ],
   "source": [
    "sss = StratifiedShuffleSplit(n_splits=1, test_size=0.3)\n",
    "\n",
    "train_index, test_index = next(sss.split(X, y))\n",
    "\n",
    "X_train, X_test = X.loc[train_index], X.loc[test_index]\n",
    "y_train, y_test = y.loc[train_index], y.loc[test_index]\n",
    "\n",
    "print(X_train.shape)\n",
    "print(y_train.shape)\n",
    "print(X_test.shape)\n",
    "print(y_test.shape)"
   ]
  },
  {
   "cell_type": "code",
   "execution_count": 30,
   "id": "2f322547-8a04-480d-b930-5572e79a0bac",
   "metadata": {},
   "outputs": [
    {
     "name": "stdout",
     "output_type": "stream",
     "text": [
      "0   0.94349\n",
      "1   0.05651\n",
      "Name: stroke, dtype: float64\n",
      "0   0.94299\n",
      "1   0.05701\n",
      "Name: stroke, dtype: float64\n",
      "0    2354\n",
      "1     141\n",
      "Name: stroke, dtype: int64\n",
      "0    1009\n",
      "1      61\n",
      "Name: stroke, dtype: int64\n"
     ]
    }
   ],
   "source": [
    "print(y_train.value_counts(normalize=True))\n",
    "print(y_test.value_counts(normalize=True))\n",
    "\n",
    "print(y_train.value_counts())\n",
    "print(y_test.value_counts())\n",
    "\n",
    "n_strokes = y_train.value_counts()[1]"
   ]
  },
  {
   "cell_type": "code",
   "execution_count": 31,
   "id": "d45bad80-c5cd-4bca-9d27-3615ba25cfc3",
   "metadata": {},
   "outputs": [
    {
     "name": "stderr",
     "output_type": "stream",
     "text": [
      "C:\\Users\\Tuomas\\python\\anaconda3\\envs\\ml\\lib\\site-packages\\sklearn\\neural_network\\_multilayer_perceptron.py:692: ConvergenceWarning: Stochastic Optimizer: Maximum iterations (200) reached and the optimization hasn't converged yet.\n",
      "  warnings.warn(\n"
     ]
    }
   ],
   "source": [
    "pipe_lr_default = make_pipeline(col_transformer, LogisticRegression())\n",
    "pipe_svm_default = make_pipeline(col_transformer, SVC(),)\n",
    "pipe_rfc_default = make_pipeline(col_transformer, RandomForestClassifier())\n",
    "pipe_mlp_default = make_pipeline(col_transformer, MLPClassifier())\n",
    "\n",
    "pipes_default = [pipe_lr_default, pipe_svm_default, pipe_rfc_default, pipe_mlp_default]\n",
    "\n",
    "default_models = [p.fit(X_train, y_train) for p in pipes_default]"
   ]
  },
  {
   "cell_type": "code",
   "execution_count": 32,
   "id": "85eb7e76-78b1-485a-91fe-afcc8cc78060",
   "metadata": {},
   "outputs": [],
   "source": [
    "from sklearn.metrics import confusion_matrix, classification_report, precision_recall_fscore_support\n",
    "import seaborn as sns"
   ]
  },
  {
   "cell_type": "code",
   "execution_count": 33,
   "id": "bc21ca01-54e4-481f-bc06-2c6cf3b4a16b",
   "metadata": {},
   "outputs": [
    {
     "name": "stdout",
     "output_type": "stream",
     "text": [
      "Classifier: LogisticRegression()\n",
      "\n",
      "              precision    recall  f1-score   support\n",
      "\n",
      "           0       0.94      1.00      0.97      2354\n",
      "           1       0.00      0.00      0.00       141\n",
      "\n",
      "    accuracy                           0.94      2495\n",
      "   macro avg       0.47      0.50      0.49      2495\n",
      "weighted avg       0.89      0.94      0.92      2495\n",
      "\n",
      "Classifier: SVC()\n",
      "\n",
      "              precision    recall  f1-score   support\n",
      "\n",
      "           0       0.94      1.00      0.97      2354\n",
      "           1       0.00      0.00      0.00       141\n",
      "\n",
      "    accuracy                           0.94      2495\n",
      "   macro avg       0.47      0.50      0.49      2495\n",
      "weighted avg       0.89      0.94      0.92      2495\n",
      "\n",
      "Classifier: RandomForestClassifier()\n",
      "\n",
      "              precision    recall  f1-score   support\n",
      "\n",
      "           0       1.00      1.00      1.00      2354\n",
      "           1       1.00      1.00      1.00       141\n",
      "\n",
      "    accuracy                           1.00      2495\n",
      "   macro avg       1.00      1.00      1.00      2495\n",
      "weighted avg       1.00      1.00      1.00      2495\n",
      "\n",
      "Classifier: MLPClassifier()\n",
      "\n",
      "              precision    recall  f1-score   support\n",
      "\n",
      "           0       0.95      1.00      0.97      2354\n",
      "           1       0.83      0.07      0.13       141\n",
      "\n",
      "    accuracy                           0.95      2495\n",
      "   macro avg       0.89      0.54      0.55      2495\n",
      "weighted avg       0.94      0.95      0.92      2495\n",
      "\n"
     ]
    }
   ],
   "source": [
    "default_metrics_in_sample = []\n",
    "\n",
    "for m in default_models:    \n",
    "    print(f'Classifier: {m[1]}\\n')\n",
    "    y_pred = m.predict(X_train)\n",
    "    print(classification_report(y_train, y_pred, zero_division=0))\n",
    "    default_metrics_in_sample.append([x[1] for x in precision_recall_fscore_support(y_train, y_pred, zero_division=0)])"
   ]
  },
  {
   "cell_type": "code",
   "execution_count": 34,
   "id": "6294b9f1-5e0c-49f0-a31b-c616cee0a8c6",
   "metadata": {},
   "outputs": [
    {
     "data": {
      "image/png": "[encoded data removed]",
      "text/plain": [
       "<Figure size 864x648 with 8 Axes>"
      ]
     },
     "metadata": {
      "needs_background": "light"
     },
     "output_type": "display_data"
    }
   ],
   "source": [
    "fig, axs = plt.subplots(2,2, figsize=(12,9))\n",
    "\n",
    "axlist = axs.flatten()\n",
    "\n",
    "for ax, m in zip(axlist, default_models):\n",
    "    y_pred = m.predict(X_train)\n",
    "    cm = confusion_matrix(y_train, y_pred)\n",
    "    sns.heatmap(cm, annot=True, ax=ax, fmt='d', cmap='copper', xticklabels=['No stroke', 'Stroke'], yticklabels=['No sroke', 'Stroke'])\n",
    "    ax.set_title(m[1])"
   ]
  },
  {
   "cell_type": "code",
   "execution_count": 35,
   "id": "c26dfb68-e201-4495-8630-f912b8cf37be",
   "metadata": {},
   "outputs": [
    {
     "name": "stdout",
     "output_type": "stream",
     "text": [
      "Classifier: LogisticRegression()\n",
      "\n",
      "              precision    recall  f1-score   support\n",
      "\n",
      "           0       0.94      1.00      0.97      1009\n",
      "           1       1.00      0.02      0.03        61\n",
      "\n",
      "    accuracy                           0.94      1070\n",
      "   macro avg       0.97      0.51      0.50      1070\n",
      "weighted avg       0.95      0.94      0.92      1070\n",
      "\n",
      "Classifier: SVC()\n",
      "\n",
      "              precision    recall  f1-score   support\n",
      "\n",
      "           0       0.94      1.00      0.97      1009\n",
      "           1       0.00      0.00      0.00        61\n",
      "\n",
      "    accuracy                           0.94      1070\n",
      "   macro avg       0.47      0.50      0.49      1070\n",
      "weighted avg       0.89      0.94      0.92      1070\n",
      "\n",
      "Classifier: RandomForestClassifier()\n",
      "\n",
      "              precision    recall  f1-score   support\n",
      "\n",
      "           0       0.94      1.00      0.97      1009\n",
      "           1       1.00      0.03      0.06        61\n",
      "\n",
      "    accuracy                           0.94      1070\n",
      "   macro avg       0.97      0.52      0.52      1070\n",
      "weighted avg       0.95      0.94      0.92      1070\n",
      "\n",
      "Classifier: MLPClassifier()\n",
      "\n",
      "              precision    recall  f1-score   support\n",
      "\n",
      "           0       0.95      1.00      0.97      1009\n",
      "           1       0.50      0.07      0.12        61\n",
      "\n",
      "    accuracy                           0.94      1070\n",
      "   macro avg       0.72      0.53      0.54      1070\n",
      "weighted avg       0.92      0.94      0.92      1070\n",
      "\n"
     ]
    }
   ],
   "source": [
    "default_metrics_out_of_sample = []\n",
    "\n",
    "for m in default_models:    \n",
    "    print(f'Classifier: {m[1]}\\n')\n",
    "    y_pred = m.predict(X_test)\n",
    "    print(classification_report(y_test, y_pred,  zero_division=0))\n",
    "    default_metrics_out_of_sample.append([x[1] for x in precision_recall_fscore_support(y_test, y_pred, zero_division=0)])"
   ]
  },
  {
   "cell_type": "code",
   "execution_count": 36,
   "id": "d72ed74e-dfdc-461e-a9ae-ce55b3902266",
   "metadata": {},
   "outputs": [
    {
     "data": {
      "image/png": "[encoded data removed]",
      "text/plain": [
       "<Figure size 864x648 with 8 Axes>"
      ]
     },
     "metadata": {
      "needs_background": "light"
     },
     "output_type": "display_data"
    }
   ],
   "source": [
    "fig, axs = plt.subplots(2,2, figsize=(12,9))\n",
    "\n",
    "axlist = axs.flatten()\n",
    "\n",
    "for ax, m in zip(axlist, default_models):\n",
    "    y_pred = m.predict(X_test)\n",
    "    cm = confusion_matrix(y_test, y_pred)\n",
    "    sns.heatmap(cm, annot=True, ax=ax, fmt='d', cmap='copper', xticklabels=['No stroke', 'Stroke'], yticklabels=['No sroke', 'Stroke'])\n",
    "    ax.set_title(m[1])"
   ]
  },
  {
   "cell_type": "code",
   "execution_count": 37,
   "id": "bd43458d-af19-4e8c-ad22-52384a23815a",
   "metadata": {},
   "outputs": [],
   "source": [
    "def check_params_exist(estimator, params_keyword):\n",
    "    all_params = estimator.get_params().keys()\n",
    "    available_params = [x for x in all_params if params_keyword in x]\n",
    "    if len(available_params)==0:\n",
    "        return \"No matching params found!\"\n",
    "    else:\n",
    "        return available_params"
   ]
  },
  {
   "cell_type": "code",
   "execution_count": 38,
   "id": "a1642533-baed-49a9-9503-a4d5caa91a4e",
   "metadata": {},
   "outputs": [],
   "source": [
    "pipe_lr = Pipeline([\n",
    "                    ('col', col_transformer),\n",
    "                    ('under_sampler', None),\n",
    "                    ('over_sampler', SMOTEN()),\n",
    "                    ('clf', LogisticRegression())\n",
    "                    ])\n",
    "\n",
    "pipe_svm = Pipeline([('col', col_transformer),\n",
    "                    ('under_sampler', RandomUnderSampler()),\n",
    "                    ('over_sampler', SMOTEN()),\n",
    "                    ('clf', SVC())\n",
    "                    ])\n",
    "\n",
    "pipe_rfc = Pipeline([('col', col_transformer),\n",
    "                    ('under_sampler', RandomUnderSampler()),\n",
    "                    ('over_sampler', SMOTEN()),\n",
    "                    ('clf', RandomForestClassifier())\n",
    "                    ])\n",
    "\n",
    "pipe_mlp = Pipeline([('col', col_transformer),\n",
    "                    ('under_sampler', RandomUnderSampler()),\n",
    "                    ('over_sampler', SMOTEN()),\n",
    "                    ('clf', MLPClassifier())\n",
    "                    ])"
   ]
  },
  {
   "cell_type": "code",
   "execution_count": 39,
   "id": "c7d08129-93b7-4f2a-8dae-d555320e2940",
   "metadata": {},
   "outputs": [
    {
     "name": "stdout",
     "output_type": "stream",
     "text": [
      "['clf',\n",
      " 'clf__activation',\n",
      " 'clf__alpha',\n",
      " 'clf__batch_size',\n",
      " 'clf__beta_1',\n",
      " 'clf__beta_2',\n",
      " 'clf__early_stopping',\n",
      " 'clf__epsilon',\n",
      " 'clf__hidden_layer_sizes',\n",
      " 'clf__learning_rate',\n",
      " 'clf__learning_rate_init',\n",
      " 'clf__max_fun',\n",
      " 'clf__max_iter',\n",
      " 'clf__momentum',\n",
      " 'clf__n_iter_no_change',\n",
      " 'clf__nesterovs_momentum',\n",
      " 'clf__power_t',\n",
      " 'clf__random_state',\n",
      " 'clf__shuffle',\n",
      " 'clf__solver',\n",
      " 'clf__tol',\n",
      " 'clf__validation_fraction',\n",
      " 'clf__verbose',\n",
      " 'clf__warm_start']\n"
     ]
    }
   ],
   "source": [
    "pprint(check_params_exist(pipe_mlp, 'clf'))"
   ]
  },
  {
   "cell_type": "code",
   "execution_count": 40,
   "id": "5e63511c-7df7-468c-a4e3-9f7289a41fa3",
   "metadata": {},
   "outputs": [],
   "source": [
    "grid_lr = {\n",
    "           'col__num_processing__scaler': [StandardScaler(), MinMaxScaler()],\n",
    "           'under_sampler': ['passthrough', RandomUnderSampler(sampling_strategy=0.1), RandomUnderSampler(sampling_strategy=0.3),\n",
    "                                            RandomUnderSampler(sampling_strategy=0.5)],\n",
    "           'over_sampler__sampling_strategy':[1.0, 0.8, 0.6],\n",
    "           'clf__solver': ['liblinear'],\n",
    "           'clf__penalty': ['l1', 'l2'],\n",
    "           'clf__C': [0.0001, 0.001, 0.01, 0.1, 1, 10]\n",
    "          }\n",
    "\n",
    "grid_svm = {\n",
    "           'col__num_processing__scaler': [StandardScaler(), MinMaxScaler()],\n",
    "           'under_sampler': ['passthrough', RandomUnderSampler(sampling_strategy=0.1), RandomUnderSampler(sampling_strategy=0.3),\n",
    "                                            RandomUnderSampler(sampling_strategy=0.5)],\n",
    "           'over_sampler__sampling_strategy':[1.0, 0.8, 0.6],\n",
    "           'clf__C': [0.001, 0.01, 0.1, 1, 10, 100],\n",
    "           'clf__kernel': ['linear', 'poly', 'rbf', 'sigmoid'],\n",
    "           'clf__class_weight': [None, 'balanced'],\n",
    "           'clf__cache_size': [500]\n",
    "          }\n",
    "\n",
    "grid_rfc = {\n",
    "           'col__num_processing__scaler': [StandardScaler(), MinMaxScaler()],\n",
    "           'under_sampler': ['passthrough', RandomUnderSampler(sampling_strategy=0.1), RandomUnderSampler(sampling_strategy=0.3),\n",
    "                                            RandomUnderSampler(sampling_strategy=0.5)],\n",
    "           'over_sampler__sampling_strategy':[1.0, 0.8, 0.6],\n",
    "           'clf__max_depth': [3, 5, 7],\n",
    "           'clf__max_features': [2, 3, 4],\n",
    "           'clf__min_samples_leaf': [2, 4],\n",
    "           'clf__min_samples_split': [10, 15, 20],\n",
    "           'clf__n_estimators': [10, 20, 30]\n",
    "          }\n",
    "\n",
    "grid_mlp = {\n",
    "           'col__num_processing__scaler': [StandardScaler(), MinMaxScaler()],\n",
    "           'under_sampler': ['passthrough', RandomUnderSampler(sampling_strategy=0.1), RandomUnderSampler(sampling_strategy=0.3),\n",
    "                                            RandomUnderSampler(sampling_strategy=0.5)],\n",
    "           'over_sampler__sampling_strategy':[1.0, 0.8, 0.6],\n",
    "           'clf__alpha': [0.0007, 0.001, 0.003],\n",
    "           'clf__beta_1': [0.99, 0.9, 0.80],\n",
    "           'clf__beta_2': [0.99, 0.95, 0.9],\n",
    "           'clf__max_iter': [400],\n",
    "           'clf__hidden_layer_sizes': [(10, ), (7, ), (7, 7)]\n",
    "          }"
   ]
  },
  {
   "cell_type": "code",
   "execution_count": 41,
   "id": "ca5fda14-46cc-42c0-aa15-39ce145841b0",
   "metadata": {},
   "outputs": [],
   "source": [
    "pipes = [pipe_lr, pipe_svm, pipe_rfc, pipe_mlp]\n",
    "grids = [grid_lr, grid_svm, grid_rfc, grid_mlp]"
   ]
  },
  {
   "cell_type": "code",
   "execution_count": 42,
   "id": "8eff46d4-0940-433a-b667-0bf82188fb4b",
   "metadata": {
    "tags": []
   },
   "outputs": [],
   "source": [
    "# searches = [GridSearchCV(pipe, grid, cv=3, scoring='f1', n_jobs=-1, verbose=10).fit(X_train, y_train) for pipe, grid in zip(pipes, grids)]\n",
    "\n",
    "# ~45min"
   ]
  },
  {
   "cell_type": "code",
   "execution_count": 44,
   "id": "e3cc0db0-a2c0-4957-8036-560d7035f5c4",
   "metadata": {},
   "outputs": [],
   "source": [
    "searches = [joblib.load(path) for path in glob.glob('models/*')]"
   ]
  },
  {
   "cell_type": "code",
   "execution_count": 45,
   "id": "786de92d-9bfc-423f-8d1a-9783aed7e856",
   "metadata": {},
   "outputs": [],
   "source": [
    "from sklearn.metrics import classification_report"
   ]
  },
  {
   "cell_type": "code",
   "execution_count": 46,
   "id": "cf99f888-9c32-4499-8cec-9646170db48e",
   "metadata": {},
   "outputs": [
    {
     "name": "stdout",
     "output_type": "stream",
     "text": [
      "Best parameters for: LogisticRegression() \n",
      "\n",
      "{'clf__C': 0.01,\n",
      " 'clf__penalty': 'l2',\n",
      " 'clf__solver': 'liblinear',\n",
      " 'col__num_processing__scaler': StandardScaler(),\n",
      " 'over_sampler__sampling_strategy': 0.6,\n",
      " 'under_sampler': RandomUnderSampler(sampling_strategy=0.5)}\n",
      "\n",
      "Classification report:\n",
      "\n",
      "              precision    recall  f1-score   support\n",
      "\n",
      "           0       0.97      0.84      0.90      2354\n",
      "           1       0.18      0.58      0.27       141\n",
      "\n",
      "    accuracy                           0.82      2495\n",
      "   macro avg       0.57      0.71      0.59      2495\n",
      "weighted avg       0.93      0.82      0.86      2495\n",
      " \n",
      "\n",
      "Best parameters for: MLPClassifier() \n",
      "\n",
      "{'clf__alpha': 0.003,\n",
      " 'clf__beta_1': 0.8,\n",
      " 'clf__hidden_layer_sizes': (7,),\n",
      " 'clf__max_iter': 400,\n",
      " 'col__num_processing__scaler': StandardScaler(),\n",
      " 'over_sampler__sampling_strategy': 0.6,\n",
      " 'under_sampler': RandomUnderSampler(sampling_strategy=0.5)}\n",
      "\n",
      "Classification report:\n",
      "\n",
      "              precision    recall  f1-score   support\n",
      "\n",
      "           0       0.98      0.77      0.86      2354\n",
      "           1       0.16      0.72      0.26       141\n",
      "\n",
      "    accuracy                           0.77      2495\n",
      "   macro avg       0.57      0.75      0.56      2495\n",
      "weighted avg       0.93      0.77      0.83      2495\n",
      " \n",
      "\n",
      "Best parameters for: RandomForestClassifier() \n",
      "\n",
      "{'clf__max_depth': 3,\n",
      " 'clf__max_features': 4,\n",
      " 'clf__min_samples_leaf': 4,\n",
      " 'clf__min_samples_split': 20,\n",
      " 'clf__n_estimators': 30,\n",
      " 'col__num_processing__scaler': StandardScaler(),\n",
      " 'over_sampler__sampling_strategy': 0.6,\n",
      " 'under_sampler': RandomUnderSampler(sampling_strategy=0.5)}\n",
      "\n",
      "Classification report:\n",
      "\n",
      "              precision    recall  f1-score   support\n",
      "\n",
      "           0       0.97      0.88      0.92      2354\n",
      "           1       0.19      0.47      0.27       141\n",
      "\n",
      "    accuracy                           0.86      2495\n",
      "   macro avg       0.58      0.68      0.60      2495\n",
      "weighted avg       0.92      0.86      0.89      2495\n",
      " \n",
      "\n",
      "Best parameters for: SVC() \n",
      "\n",
      "{'clf__C': 0.1,\n",
      " 'clf__cache_size': 500,\n",
      " 'clf__class_weight': 'balanced',\n",
      " 'clf__kernel': 'poly',\n",
      " 'col__num_processing__scaler': StandardScaler(),\n",
      " 'over_sampler__sampling_strategy': 0.6,\n",
      " 'under_sampler': RandomUnderSampler(sampling_strategy=0.5)}\n",
      "\n",
      "Classification report:\n",
      "\n",
      "              precision    recall  f1-score   support\n",
      "\n",
      "           0       0.98      0.80      0.88      2354\n",
      "           1       0.17      0.70      0.28       141\n",
      "\n",
      "    accuracy                           0.79      2495\n",
      "   macro avg       0.58      0.75      0.58      2495\n",
      "weighted avg       0.93      0.79      0.85      2495\n",
      " \n",
      "\n"
     ]
    }
   ],
   "source": [
    "cv_metrics_in_sample = []\n",
    "\n",
    "for s in searches:\n",
    "    y_pred = s.predict(X_train)\n",
    "    print(f'Best parameters for: {s.estimator.named_steps.clf} \\n')\n",
    "    pprint(s.best_params_)\n",
    "    print(f'\\nClassification report:\\n\\n{classification_report(y_train, y_pred)} \\n')\n",
    "    cv_metrics_in_sample.append([x[1] for x in precision_recall_fscore_support(y_train, y_pred, zero_division=0)])"
   ]
  },
  {
   "cell_type": "code",
   "execution_count": 47,
   "id": "7dcd5826-f4ff-4043-86a4-14f6cecc55ca",
   "metadata": {},
   "outputs": [
    {
     "data": {
      "image/png": "[encoded data removed]",
      "text/plain": [
       "<Figure size 864x648 with 8 Axes>"
      ]
     },
     "metadata": {
      "needs_background": "light"
     },
     "output_type": "display_data"
    }
   ],
   "source": [
    "fig, axs = plt.subplots(2,2, figsize=(12,9))\n",
    "\n",
    "axlist = axs.flatten()\n",
    "\n",
    "for ax, s in zip(axlist, searches):\n",
    "    y_pred = s.predict(X_train)\n",
    "    cm = confusion_matrix(y_train, y_pred)\n",
    "    sns.heatmap(cm, annot=True, ax=ax, fmt='d', cmap='copper', xticklabels=['No stroke', 'Stroke'], yticklabels=['No sroke', 'Stroke'])\n",
    "    ax.set_title(s.estimator.named_steps.clf)\n",
    "    \n",
    "plt.show()"
   ]
  },
  {
   "cell_type": "code",
   "execution_count": 48,
   "id": "61c01626-2659-49bc-92e6-81414553079e",
   "metadata": {},
   "outputs": [
    {
     "name": "stdout",
     "output_type": "stream",
     "text": [
      "Classifier: LogisticRegression() \n",
      "\n",
      "Classification report:\n",
      "\n",
      "              precision    recall  f1-score   support\n",
      "\n",
      "           0       0.98      0.84      0.90      1009\n",
      "           1       0.20      0.66      0.31        61\n",
      "\n",
      "    accuracy                           0.83      1070\n",
      "   macro avg       0.59      0.75      0.61      1070\n",
      "weighted avg       0.93      0.83      0.87      1070\n",
      " \n",
      "\n",
      "Classifier: MLPClassifier() \n",
      "\n",
      "Classification report:\n",
      "\n",
      "              precision    recall  f1-score   support\n",
      "\n",
      "           0       0.98      0.78      0.87      1009\n",
      "           1       0.16      0.70      0.26        61\n",
      "\n",
      "    accuracy                           0.77      1070\n",
      "   macro avg       0.57      0.74      0.56      1070\n",
      "weighted avg       0.93      0.77      0.83      1070\n",
      " \n",
      "\n",
      "Classifier: RandomForestClassifier() \n",
      "\n",
      "Classification report:\n",
      "\n",
      "              precision    recall  f1-score   support\n",
      "\n",
      "           0       0.97      0.88      0.92      1009\n",
      "           1       0.19      0.48      0.27        61\n",
      "\n",
      "    accuracy                           0.86      1070\n",
      "   macro avg       0.58      0.68      0.60      1070\n",
      "weighted avg       0.92      0.86      0.88      1070\n",
      " \n",
      "\n",
      "Classifier: SVC() \n",
      "\n",
      "Classification report:\n",
      "\n",
      "              precision    recall  f1-score   support\n",
      "\n",
      "           0       0.98      0.80      0.88      1009\n",
      "           1       0.17      0.69      0.27        61\n",
      "\n",
      "    accuracy                           0.79      1070\n",
      "   macro avg       0.57      0.74      0.57      1070\n",
      "weighted avg       0.93      0.79      0.84      1070\n",
      " \n",
      "\n"
     ]
    }
   ],
   "source": [
    "cv_metrics_out_of_sample = []\n",
    "\n",
    "for s in searches:\n",
    "    y_pred = s.predict(X_test)\n",
    "    print(f'Classifier: {s.estimator.named_steps.clf} \\n')\n",
    "    print(f'Classification report:\\n\\n{classification_report(y_test, y_pred)} \\n')\n",
    "    cv_metrics_out_of_sample.append([x[1] for x in precision_recall_fscore_support(y_test, y_pred, zero_division=0)])"
   ]
  },
  {
   "cell_type": "code",
   "execution_count": 49,
   "id": "7b230b8c-2148-4082-8af4-f2987fa5a2cd",
   "metadata": {},
   "outputs": [
    {
     "data": {
      "image/png": "[encoded data removed]",
      "text/plain": [
       "<Figure size 1008x792 with 8 Axes>"
      ]
     },
     "metadata": {
      "needs_background": "light"
     },
     "output_type": "display_data"
    }
   ],
   "source": [
    "fig, axs = plt.subplots(2,2, figsize=(14,11))\n",
    "\n",
    "axlist = axs.flatten()\n",
    "\n",
    "for ax, s in zip(axlist, searches):\n",
    "    y_pred = s.predict(X_test)\n",
    "    cm = confusion_matrix(y_test, y_pred)\n",
    "    sns.heatmap(cm, annot=True, ax=ax, fmt='d', cmap='copper', xticklabels=['No stroke', 'Stroke'], yticklabels=['No sroke', 'Stroke'])\n",
    "    ax.set_title(s.estimator.named_steps.clf)\n",
    "    \n",
    "plt.show()"
   ]
  },
  {
   "cell_type": "code",
   "execution_count": 53,
   "id": "edf190a5-7614-4550-b347-0139bc3c591b",
   "metadata": {},
   "outputs": [],
   "source": [
    "validation_type = ['Default in-sample', 'Default out-of-sample', 'CV in-sample', 'CV out-of-sample']\n",
    "\n",
    "model_names = [m[1].__class__.__name__ for m in default_models]\n",
    "\n",
    "metrics = ['Precision', 'Recall', 'F1-score', 'Support']\n",
    "\n",
    "tuples = [(x, y) for (x,y) in itertools.product(model_names, validation_type)]"
   ]
  },
  {
   "cell_type": "code",
   "execution_count": 54,
   "id": "0ce177f3-06e1-44cd-a072-be8f9698dfe7",
   "metadata": {},
   "outputs": [],
   "source": [
    "l =  []\n",
    "for a, b, c, d in(zip(default_metrics_in_sample, default_metrics_out_of_sample, cv_metrics_in_sample, cv_metrics_out_of_sample)):\n",
    "    temp = []\n",
    "    for i in range(4):\n",
    "        temp.append([a[i], b[i], c[i], d[i]])\n",
    "    l.append(np.asarray(temp))    \n",
    "    \n",
    "all_metrics = np.hstack(l)"
   ]
  },
  {
   "cell_type": "code",
   "execution_count": 55,
   "id": "cc46b1fb-73aa-4f9c-89a4-95225264dfe4",
   "metadata": {},
   "outputs": [
    {
     "data": {
      "text/html": [
       "<div>\n",
       "<style scoped>\n",
       "    .dataframe tbody tr th:only-of-type {\n",
       "        vertical-align: middle;\n",
       "    }\n",
       "\n",
       "    .dataframe tbody tr th {\n",
       "        vertical-align: top;\n",
       "    }\n",
       "\n",
       "    .dataframe thead tr th {\n",
       "        text-align: left;\n",
       "    }\n",
       "</style>\n",
       "<table border=\"1\" class=\"dataframe\">\n",
       "  <thead>\n",
       "    <tr>\n",
       "      <th>Model</th>\n",
       "      <th colspan=\"4\" halign=\"left\">LogisticRegression</th>\n",
       "      <th colspan=\"4\" halign=\"left\">SVC</th>\n",
       "      <th colspan=\"4\" halign=\"left\">RandomForestClassifier</th>\n",
       "      <th colspan=\"4\" halign=\"left\">MLPClassifier</th>\n",
       "    </tr>\n",
       "    <tr>\n",
       "      <th>Validation type</th>\n",
       "      <th>Default in-sample</th>\n",
       "      <th>Default out-of-sample</th>\n",
       "      <th>CV in-sample</th>\n",
       "      <th>CV out-of-sample</th>\n",
       "      <th>Default in-sample</th>\n",
       "      <th>Default out-of-sample</th>\n",
       "      <th>CV in-sample</th>\n",
       "      <th>CV out-of-sample</th>\n",
       "      <th>Default in-sample</th>\n",
       "      <th>Default out-of-sample</th>\n",
       "      <th>CV in-sample</th>\n",
       "      <th>CV out-of-sample</th>\n",
       "      <th>Default in-sample</th>\n",
       "      <th>Default out-of-sample</th>\n",
       "      <th>CV in-sample</th>\n",
       "      <th>CV out-of-sample</th>\n",
       "    </tr>\n",
       "  </thead>\n",
       "  <tbody>\n",
       "    <tr>\n",
       "      <th>Precision</th>\n",
       "      <td>0.00000</td>\n",
       "      <td>1.00000</td>\n",
       "      <td>0.17711</td>\n",
       "      <td>0.20000</td>\n",
       "      <td>0.00000</td>\n",
       "      <td>0.00000</td>\n",
       "      <td>0.15962</td>\n",
       "      <td>0.16045</td>\n",
       "      <td>1.00000</td>\n",
       "      <td>1.00000</td>\n",
       "      <td>0.19412</td>\n",
       "      <td>0.19205</td>\n",
       "      <td>0.83333</td>\n",
       "      <td>0.50000</td>\n",
       "      <td>0.17308</td>\n",
       "      <td>0.16935</td>\n",
       "    </tr>\n",
       "    <tr>\n",
       "      <th>Recall</th>\n",
       "      <td>0.00000</td>\n",
       "      <td>0.01639</td>\n",
       "      <td>0.58156</td>\n",
       "      <td>0.65574</td>\n",
       "      <td>0.00000</td>\n",
       "      <td>0.00000</td>\n",
       "      <td>0.72340</td>\n",
       "      <td>0.70492</td>\n",
       "      <td>1.00000</td>\n",
       "      <td>0.03279</td>\n",
       "      <td>0.46809</td>\n",
       "      <td>0.47541</td>\n",
       "      <td>0.07092</td>\n",
       "      <td>0.06557</td>\n",
       "      <td>0.70213</td>\n",
       "      <td>0.68852</td>\n",
       "    </tr>\n",
       "    <tr>\n",
       "      <th>F1-score</th>\n",
       "      <td>0.00000</td>\n",
       "      <td>0.03226</td>\n",
       "      <td>0.27152</td>\n",
       "      <td>0.30651</td>\n",
       "      <td>0.00000</td>\n",
       "      <td>0.00000</td>\n",
       "      <td>0.26154</td>\n",
       "      <td>0.26140</td>\n",
       "      <td>1.00000</td>\n",
       "      <td>0.06349</td>\n",
       "      <td>0.27443</td>\n",
       "      <td>0.27358</td>\n",
       "      <td>0.13072</td>\n",
       "      <td>0.11594</td>\n",
       "      <td>0.27770</td>\n",
       "      <td>0.27184</td>\n",
       "    </tr>\n",
       "  </tbody>\n",
       "</table>\n",
       "</div>"
      ],
      "text/plain": [
       "Model           LogisticRegression                                     \\\n",
       "Validation type  Default in-sample Default out-of-sample CV in-sample   \n",
       "Precision                  0.00000               1.00000      0.17711   \n",
       "Recall                     0.00000               0.01639      0.58156   \n",
       "F1-score                   0.00000               0.03226      0.27152   \n",
       "\n",
       "Model                                          SVC                        \\\n",
       "Validation type CV out-of-sample Default in-sample Default out-of-sample   \n",
       "Precision                0.20000           0.00000               0.00000   \n",
       "Recall                   0.65574           0.00000               0.00000   \n",
       "F1-score                 0.30651           0.00000               0.00000   \n",
       "\n",
       "Model                                         RandomForestClassifier  \\\n",
       "Validation type CV in-sample CV out-of-sample      Default in-sample   \n",
       "Precision            0.15962          0.16045                1.00000   \n",
       "Recall               0.72340          0.70492                1.00000   \n",
       "F1-score             0.26154          0.26140                1.00000   \n",
       "\n",
       "Model                                                                \\\n",
       "Validation type Default out-of-sample CV in-sample CV out-of-sample   \n",
       "Precision                     1.00000      0.19412          0.19205   \n",
       "Recall                        0.03279      0.46809          0.47541   \n",
       "F1-score                      0.06349      0.27443          0.27358   \n",
       "\n",
       "Model               MLPClassifier                                     \\\n",
       "Validation type Default in-sample Default out-of-sample CV in-sample   \n",
       "Precision                 0.83333               0.50000      0.17308   \n",
       "Recall                    0.07092               0.06557      0.70213   \n",
       "F1-score                  0.13072               0.11594      0.27770   \n",
       "\n",
       "Model                             \n",
       "Validation type CV out-of-sample  \n",
       "Precision                0.16935  \n",
       "Recall                   0.68852  \n",
       "F1-score                 0.27184  "
      ]
     },
     "execution_count": 55,
     "metadata": {},
     "output_type": "execute_result"
    }
   ],
   "source": [
    "columns = pd.MultiIndex.from_tuples(tuples, names=['Model', 'Validation type'])\n",
    "df_metrics = pd.DataFrame(all_metrics, index=metrics, columns=columns)\n",
    "df_metrics[:-1]"
   ]
  },
  {
   "cell_type": "code",
   "execution_count": null,
   "id": "103205ed-219b-4bab-8b64-cf07eba15e97",
   "metadata": {},
   "outputs": [],
   "source": []
  }
 ],
 "metadata": {
  "kernelspec": {
   "display_name": "Python 3 (ipykernel)",
   "language": "python",
   "name": "python3"
  },
  "language_info": {
   "codemirror_mode": {
    "name": "ipython",
    "version": 3
   },
   "file_extension": ".py",
   "mimetype": "text/x-python",
   "name": "python",
   "nbconvert_exporter": "python",
   "pygments_lexer": "ipython3",
   "version": "3.9.7"
  }
 },
 "nbformat": 4,
 "nbformat_minor": 5
}
